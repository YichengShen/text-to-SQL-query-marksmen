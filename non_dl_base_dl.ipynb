{
  "cells": [
    {
      "cell_type": "markdown",
      "metadata": {
        "id": "view-in-github",
        "colab_type": "text"
      },
      "source": [
        "<a href=\"https://colab.research.google.com/github/YichengShen/cis5220-project/blob/main/cis5220_final_project.ipynb\" target=\"_parent\"><img src=\"https://colab.research.google.com/assets/colab-badge.svg\" alt=\"Open In Colab\"/></a>"
      ]
    },
    {
      "cell_type": "markdown",
      "metadata": {
        "id": "2ffOLBkDpqjR"
      },
      "source": [
        "# Text-to-SQL\n",
        "\n",
        "Team: Query Marksman"
      ]
    },
    {
      "cell_type": "markdown",
      "metadata": {
        "id": "_49X02COwghG"
      },
      "source": [
        "## Section 0: Config"
      ]
    },
    {
      "cell_type": "markdown",
      "metadata": {
        "id": "L56K90IoxSxs"
      },
      "source": [
        "Flags for choosing which model to run"
      ]
    },
    {
      "cell_type": "code",
      "execution_count": 34,
      "metadata": {
        "id": "OqfxZmx-wgAk"
      },
      "outputs": [],
      "source": [
        "RUN_NON_DL_MODEL = True\n",
        "RUN_RNN_MODEL = True"
      ]
    },
    {
      "cell_type": "markdown",
      "metadata": {
        "id": "3fmawY3UxX8a"
      },
      "source": [
        "Seed"
      ]
    },
    {
      "cell_type": "code",
      "execution_count": 2,
      "metadata": {
        "id": "_UXyk4tLxQVc"
      },
      "outputs": [],
      "source": [
        "SEED = 0"
      ]
    },
    {
      "cell_type": "markdown",
      "metadata": {
        "id": "KtUZpHLpqAp6"
      },
      "source": [
        "## Section 1: Setup"
      ]
    },
    {
      "cell_type": "markdown",
      "metadata": {
        "id": "D02_sQ2Mu96Y"
      },
      "source": [
        "### Install & imports"
      ]
    },
    {
      "cell_type": "code",
      "execution_count": 3,
      "metadata": {
        "colab": {
          "base_uri": "https://localhost:8080/"
        },
        "id": "sVoBWIzhp6wS",
        "outputId": "3b78afb6-4912-470e-94f2-197b95687643"
      },
      "outputs": [
        {
          "output_type": "stream",
          "name": "stdout",
          "text": [
            "Looking in indexes: https://pypi.org/simple, https://us-python.pkg.dev/colab-wheels/public/simple/\n",
            "Requirement already satisfied: nltk in /usr/local/lib/python3.9/dist-packages (3.8.1)\n",
            "Requirement already satisfied: click in /usr/local/lib/python3.9/dist-packages (from nltk) (8.1.3)\n",
            "Requirement already satisfied: joblib in /usr/local/lib/python3.9/dist-packages (from nltk) (1.2.0)\n",
            "Requirement already satisfied: regex>=2021.8.3 in /usr/local/lib/python3.9/dist-packages (from nltk) (2022.10.31)\n",
            "Requirement already satisfied: tqdm in /usr/local/lib/python3.9/dist-packages (from nltk) (4.65.0)\n",
            "Looking in indexes: https://pypi.org/simple, https://us-python.pkg.dev/colab-wheels/public/simple/\n",
            "Collecting transformers\n",
            "  Downloading transformers-4.28.1-py3-none-any.whl (7.0 MB)\n",
            "\u001b[2K     \u001b[90m━━━━━━━━━━━━━━━━━━━━━━━━━━━━━━━━━━━━━━━━\u001b[0m \u001b[32m7.0/7.0 MB\u001b[0m \u001b[31m86.9 MB/s\u001b[0m eta \u001b[36m0:00:00\u001b[0m\n",
            "\u001b[?25hRequirement already satisfied: packaging>=20.0 in /usr/local/lib/python3.9/dist-packages (from transformers) (23.1)\n",
            "Requirement already satisfied: numpy>=1.17 in /usr/local/lib/python3.9/dist-packages (from transformers) (1.22.4)\n",
            "Requirement already satisfied: regex!=2019.12.17 in /usr/local/lib/python3.9/dist-packages (from transformers) (2022.10.31)\n",
            "Requirement already satisfied: pyyaml>=5.1 in /usr/local/lib/python3.9/dist-packages (from transformers) (6.0)\n",
            "Collecting tokenizers!=0.11.3,<0.14,>=0.11.1\n",
            "  Downloading tokenizers-0.13.3-cp39-cp39-manylinux_2_17_x86_64.manylinux2014_x86_64.whl (7.8 MB)\n",
            "\u001b[2K     \u001b[90m━━━━━━━━━━━━━━━━━━━━━━━━━━━━━━━━━━━━━━━━\u001b[0m \u001b[32m7.8/7.8 MB\u001b[0m \u001b[31m108.1 MB/s\u001b[0m eta \u001b[36m0:00:00\u001b[0m\n",
            "\u001b[?25hRequirement already satisfied: tqdm>=4.27 in /usr/local/lib/python3.9/dist-packages (from transformers) (4.65.0)\n",
            "Requirement already satisfied: filelock in /usr/local/lib/python3.9/dist-packages (from transformers) (3.11.0)\n",
            "Requirement already satisfied: requests in /usr/local/lib/python3.9/dist-packages (from transformers) (2.27.1)\n",
            "Collecting huggingface-hub<1.0,>=0.11.0\n",
            "  Downloading huggingface_hub-0.13.4-py3-none-any.whl (200 kB)\n",
            "\u001b[2K     \u001b[90m━━━━━━━━━━━━━━━━━━━━━━━━━━━━━━━━━━━━━━\u001b[0m \u001b[32m200.1/200.1 kB\u001b[0m \u001b[31m27.7 MB/s\u001b[0m eta \u001b[36m0:00:00\u001b[0m\n",
            "\u001b[?25hRequirement already satisfied: typing-extensions>=3.7.4.3 in /usr/local/lib/python3.9/dist-packages (from huggingface-hub<1.0,>=0.11.0->transformers) (4.5.0)\n",
            "Requirement already satisfied: charset-normalizer~=2.0.0 in /usr/local/lib/python3.9/dist-packages (from requests->transformers) (2.0.12)\n",
            "Requirement already satisfied: certifi>=2017.4.17 in /usr/local/lib/python3.9/dist-packages (from requests->transformers) (2022.12.7)\n",
            "Requirement already satisfied: idna<4,>=2.5 in /usr/local/lib/python3.9/dist-packages (from requests->transformers) (3.4)\n",
            "Requirement already satisfied: urllib3<1.27,>=1.21.1 in /usr/local/lib/python3.9/dist-packages (from requests->transformers) (1.26.15)\n",
            "Installing collected packages: tokenizers, huggingface-hub, transformers\n",
            "Successfully installed huggingface-hub-0.13.4 tokenizers-0.13.3 transformers-4.28.1\n"
          ]
        }
      ],
      "source": [
        "!pip install nltk\n",
        "!pip install transformers"
      ]
    },
    {
      "cell_type": "code",
      "execution_count": 4,
      "metadata": {
        "id": "rvD19zjaqdYh"
      },
      "outputs": [],
      "source": [
        "import shutil\n",
        "import subprocess\n",
        "\n",
        "import re\n",
        "import io\n",
        "import json\n",
        "import numpy as np\n",
        "import os\n",
        "import nltk\n",
        "from typing import List, Dict, Tuple, Any, Union\n",
        "from tqdm import tqdm\n",
        "import torch"
      ]
    },
    {
      "cell_type": "code",
      "source": [
        "nltk.download('punkt')"
      ],
      "metadata": {
        "colab": {
          "base_uri": "https://localhost:8080/"
        },
        "id": "CLmI08o_xCCi",
        "outputId": "f9672bcc-06cf-42f0-814a-a600d08ed93d"
      },
      "execution_count": 5,
      "outputs": [
        {
          "output_type": "stream",
          "name": "stderr",
          "text": [
            "[nltk_data] Downloading package punkt to /root/nltk_data...\n",
            "[nltk_data]   Unzipping tokenizers/punkt.zip.\n"
          ]
        },
        {
          "output_type": "execute_result",
          "data": {
            "text/plain": [
              "True"
            ]
          },
          "metadata": {},
          "execution_count": 5
        }
      ]
    },
    {
      "cell_type": "markdown",
      "metadata": {
        "id": "xbzCHSKXvEx_"
      },
      "source": [
        "Mount Drive"
      ]
    },
    {
      "cell_type": "code",
      "execution_count": 6,
      "metadata": {
        "colab": {
          "base_uri": "https://localhost:8080/"
        },
        "id": "WcA3fpvPocVp",
        "outputId": "911c9a9a-0310-4d34-a7e3-7cec51544b3e"
      },
      "outputs": [
        {
          "output_type": "stream",
          "name": "stdout",
          "text": [
            "Mounted at /content/drive\n"
          ]
        }
      ],
      "source": [
        "from google.colab import drive\n",
        "drive.mount('/content/drive')"
      ]
    },
    {
      "cell_type": "markdown",
      "source": [
        "Use GPU if available"
      ],
      "metadata": {
        "id": "G19od4FZ643I"
      }
    },
    {
      "cell_type": "code",
      "source": [
        "device = torch.device(\"cuda\" if torch.cuda.is_available() else \"cpu\")\n",
        "print(f\"Using device: {device}\")"
      ],
      "metadata": {
        "colab": {
          "base_uri": "https://localhost:8080/"
        },
        "id": "OWpoJerv66qy",
        "outputId": "46cf4ba0-90aa-434e-ed1d-caca0811be3d"
      },
      "execution_count": 7,
      "outputs": [
        {
          "output_type": "stream",
          "name": "stdout",
          "text": [
            "Using device: cuda\n"
          ]
        }
      ]
    },
    {
      "cell_type": "markdown",
      "metadata": {
        "id": "4Z2L8fiuxiI3"
      },
      "source": [
        "### Load data into Colab notebook"
      ]
    },
    {
      "cell_type": "markdown",
      "metadata": {
        "id": "qy5rScgzvIPW"
      },
      "source": [
        "Before you run the code below, make sure you download the Spider dataset from [here](https://yale-lily.github.io/spider). Then, you upload the zip file of the dataset to your Drive.\n",
        "\n",
        "Copy data from Drive into the current runtime"
      ]
    },
    {
      "cell_type": "code",
      "execution_count": 8,
      "metadata": {
        "colab": {
          "base_uri": "https://localhost:8080/",
          "height": 35
        },
        "id": "nNvmyuljvKIc",
        "outputId": "9e2c517f-5712-49a3-ae43-8dbb0aaee426"
      },
      "outputs": [
        {
          "output_type": "execute_result",
          "data": {
            "text/plain": [
              "'/content/data/spider.zip'"
            ],
            "application/vnd.google.colaboratory.intrinsic+json": {
              "type": "string"
            }
          },
          "metadata": {},
          "execution_count": 8
        }
      ],
      "source": [
        "# Create data folder if not exist\n",
        "!mkdir -p data\n",
        "\n",
        "# Change this path to where you store spider.zip in your Drive\n",
        "dataset_zip_path_in_drive = \"/content/drive/Shareddrives/CIS 522/spider.zip\"\n",
        "dataset_zip_path_in_runtime = \"/content/data/spider.zip\"\n",
        "\n",
        "shutil.copy(dataset_zip_path_in_drive, dataset_zip_path_in_runtime)"
      ]
    },
    {
      "cell_type": "markdown",
      "metadata": {
        "id": "P7Bpo8LGxLXe"
      },
      "source": [
        "Unzip"
      ]
    },
    {
      "cell_type": "code",
      "execution_count": 9,
      "metadata": {
        "id": "x5tYlTF3xFMK"
      },
      "outputs": [],
      "source": [
        "!unzip -q -o /content/data/spider.zip -d /content/data/"
      ]
    },
    {
      "cell_type": "markdown",
      "source": [
        "### Load Python scripts"
      ],
      "metadata": {
        "id": "7K60v2upuovD"
      }
    },
    {
      "cell_type": "code",
      "source": [
        "scripts_path_in_drive = \"/content/drive/Shareddrives/CIS 522/scripts\"\n",
        "scripts_path_in_runtime = \"/content/scripts\"\n",
        "\n",
        "# Overrides previous scripts folder\n",
        "if os.path.exists(scripts_path_in_runtime):\n",
        "    shutil.rmtree(scripts_path_in_runtime)\n",
        "shutil.copytree(scripts_path_in_drive, scripts_path_in_runtime)"
      ],
      "metadata": {
        "colab": {
          "base_uri": "https://localhost:8080/",
          "height": 35
        },
        "id": "Su4uwENLutAx",
        "outputId": "4d03bd76-ff3a-4749-8d31-1b8c9b7d057c"
      },
      "execution_count": 10,
      "outputs": [
        {
          "output_type": "execute_result",
          "data": {
            "text/plain": [
              "'/content/scripts'"
            ],
            "application/vnd.google.colaboratory.intrinsic+json": {
              "type": "string"
            }
          },
          "metadata": {},
          "execution_count": 10
        }
      ]
    },
    {
      "cell_type": "markdown",
      "metadata": {
        "id": "G43PL2X2K-Xb"
      },
      "source": [
        "## Section 2: Data Preparation & Cleaning (Milestone 1)"
      ]
    },
    {
      "cell_type": "markdown",
      "metadata": {
        "id": "Ik-NAtpULHrz"
      },
      "source": [
        "### Helper Functions"
      ]
    },
    {
      "cell_type": "code",
      "execution_count": 11,
      "metadata": {
        "id": "WGpYm9-hueH4"
      },
      "outputs": [],
      "source": [
        "def process(sql_data: List[Dict], \n",
        "            table_data: List[Dict]) -> Tuple[List[Dict], Dict[str, Dict]]:\n",
        "    output_tab = {}\n",
        "    for i in range(len(table_data)):\n",
        "      table = table_data[i]\n",
        "      temp = {}\n",
        "      temp['col_map'] = table['column_names']\n",
        "\n",
        "      db_name = table['db_id']\n",
        "      output_tab[db_name] = temp\n",
        "\n",
        "\n",
        "    output_sql = []\n",
        "    for i in range(len(sql_data)):\n",
        "      sql = sql_data[i]\n",
        "      temp = {}\n",
        "\n",
        "      # add query metadata\n",
        "      temp['question'] = sql['question']\n",
        "      temp['question_tok'] = sql['question_toks']\n",
        "      temp['query'] = sql['query'].replace('\\t', '') # Remove \\t, this affects generating the label file\n",
        "      temp['query_tok'] = sql['query_toks']\n",
        "      temp['table_id'] = sql['db_id']\n",
        "      sql_temp = {}\n",
        "\n",
        "      # process agg/sel\n",
        "      sql_temp['agg'] = []\n",
        "      sql_temp['sel'] = []\n",
        "      gt_sel = sql['sql']['select'][1]\n",
        "      for tup in gt_sel:\n",
        "        sql_temp['agg'].append(tup[0])\n",
        "        sql_temp['sel'].append(tup[1][1][1])\n",
        "      \n",
        "      # process where conditions and conjuctions\n",
        "      sql_temp['cond'] = []\n",
        "      gt_cond = sql['sql']['where']\n",
        "      if len(gt_cond) > 0:\n",
        "        conds = [gt_cond[x] for x in range(len(gt_cond)) if x % 2 == 0]\n",
        "        for cond in conds:\n",
        "          curr_cond = []\n",
        "          curr_cond.append(cond[2][1][1])\n",
        "          curr_cond.append(cond[1])\n",
        "          if cond[4] is not None:\n",
        "            curr_cond.append([cond[3], cond[4]])\n",
        "          else:\n",
        "            curr_cond.append(cond[3])\n",
        "          sql_temp['cond'].append(curr_cond)\n",
        "\n",
        "      sql_temp['conj'] = [gt_cond[x] for x in range(len(gt_cond)) if x % 2 == 1]\n",
        "\n",
        "      # process group by / having\n",
        "      sql_temp['group'] = [x[1] for x in sql['sql']['groupBy']]\n",
        "      having_cond = []\n",
        "      if len(sql['sql']['having']) > 0:\n",
        "        gt_having = sql['sql']['having'][0] # currently only do first having condition\n",
        "        having_cond.append(gt_having[2][1][0]) # aggregator\n",
        "        having_cond.append(gt_having[2][1][1]) # column\n",
        "        having_cond.append(gt_having[1]) # operator\n",
        "        if gt_having[4] is not None:\n",
        "          having_cond.append([gt_having[3], gt_having[4]])\n",
        "        else:\n",
        "          having_cond.append(gt_having[3])\n",
        "      sql_temp['group'].append(having_cond)\n",
        "\n",
        "      # process order by / limit\n",
        "      order_aggs = []\n",
        "      order_cols = []\n",
        "      order_par = -1\n",
        "      gt_order = sql['sql']['orderBy']\n",
        "      if len(gt_order) > 0:\n",
        "        order_aggs = [x[1][0] for x in gt_order[1]]\n",
        "        order_cols = [x[1][1] for x in gt_order[1]]\n",
        "        order_par = 1 if gt_order[0] == 'asc' else 0\n",
        "      sql_temp['order'] = [order_aggs, order_cols, order_par]\n",
        "\n",
        "      # process intersect/except/union\n",
        "      sql_temp['special'] = 0\n",
        "      if sql['sql']['intersect'] is not None:\n",
        "        sql_temp['special'] = 1\n",
        "      elif sql['sql']['except'] is not None:\n",
        "        sql_temp['special'] = 2\n",
        "      elif sql['sql']['union'] is not None:\n",
        "        sql_temp['special'] = 3\n",
        "\n",
        "      temp['sql'] = sql_temp\n",
        "      output_sql.append(temp)\n",
        "    return output_sql, output_tab"
      ]
    },
    {
      "cell_type": "code",
      "execution_count": 12,
      "metadata": {
        "id": "RgYlGa8xr0fT"
      },
      "outputs": [],
      "source": [
        "def load_data_new(sql_paths: Union[str, List[str]], \n",
        "                  table_paths: Union[str, List[str]], \n",
        "                  use_small: bool = False) -> Tuple[List[Dict], Dict[str, Dict]]:\n",
        "    if not isinstance(sql_paths, list):\n",
        "        sql_paths = (sql_paths, )\n",
        "    if not isinstance(table_paths, list):\n",
        "        table_paths = (table_paths, )\n",
        "    sql_data = []\n",
        "    table_data = {}\n",
        "    for i, SQL_PATH in enumerate(sql_paths):\n",
        "        if use_small and i >= 2:\n",
        "            break\n",
        "        print(f\"Loading data from {SQL_PATH}\")\n",
        "        with open(SQL_PATH) as inf:\n",
        "            data = json.load(inf)\n",
        "            sql_data += data\n",
        "                \n",
        "    for i, TABLE_PATH in enumerate(table_paths):\n",
        "        if use_small and i >= 2:\n",
        "            break\n",
        "        print(f\"Loading data from {TABLE_PATH}\")\n",
        "        with open(TABLE_PATH) as inf:\n",
        "            table_data= json.load(inf)\n",
        "    # print sql_data[0]\n",
        "    sql_data, table_data = process(sql_data, table_data)\n",
        "    return sql_data, table_data"
      ]
    },
    {
      "cell_type": "markdown",
      "metadata": {
        "id": "qVmnWaHEuxlz"
      },
      "source": [
        "### Load Clean Data"
      ]
    },
    {
      "cell_type": "code",
      "execution_count": 13,
      "metadata": {
        "colab": {
          "base_uri": "https://localhost:8080/"
        },
        "id": "evSVkVrRuzZz",
        "outputId": "edd597c1-2031-44ec-b78f-083946d3cfe6"
      },
      "outputs": [
        {
          "output_type": "stream",
          "name": "stdout",
          "text": [
            "Loading data from /content/data/spider/train_spider.json\n",
            "Loading data from /content/data/spider/tables.json\n"
          ]
        }
      ],
      "source": [
        "sql_data_train, table_data = load_data_new([\"/content/data/spider/train_spider.json\"], [\"/content/data/spider/tables.json\"], use_small=False)"
      ]
    },
    {
      "cell_type": "code",
      "source": [
        "sql_data_others_train, table_data = load_data_new([\"/content/data/spider/train_others.json\"], [\"/content/data/spider/tables.json\"], use_small=False)"
      ],
      "metadata": {
        "colab": {
          "base_uri": "https://localhost:8080/"
        },
        "id": "g0Id6yK7M1mK",
        "outputId": "1bc9bc78-c083-464f-95e2-0228d23d8ef5"
      },
      "execution_count": 14,
      "outputs": [
        {
          "output_type": "stream",
          "name": "stdout",
          "text": [
            "Loading data from /content/data/spider/train_others.json\n",
            "Loading data from /content/data/spider/tables.json\n"
          ]
        }
      ]
    },
    {
      "cell_type": "code",
      "execution_count": 15,
      "metadata": {
        "colab": {
          "base_uri": "https://localhost:8080/"
        },
        "id": "lqCDNCxvpP7Q",
        "outputId": "ee5fa916-16a3-4ecf-88ac-d2778a0236c8"
      },
      "outputs": [
        {
          "output_type": "stream",
          "name": "stdout",
          "text": [
            "Loading data from /content/data/spider/dev.json\n",
            "Loading data from /content/data/spider/tables.json\n"
          ]
        }
      ],
      "source": [
        "sql_data_dev, table_data = load_data_new([\"/content/data/spider/dev.json\"], [\"/content/data/spider/tables.json\"], use_small=False)"
      ]
    },
    {
      "cell_type": "markdown",
      "metadata": {
        "id": "klEYyJoOMLDC"
      },
      "source": [
        "## Section 3: EDA"
      ]
    },
    {
      "cell_type": "markdown",
      "metadata": {
        "id": "pk99_xlhdNUg"
      },
      "source": [
        "### SQL Data"
      ]
    },
    {
      "cell_type": "markdown",
      "source": [
        "Spider database contains 200 databases, with multiple tables, 10,181 questions, and 5,693 corresponding complex SQL queries. There's no overlapps in train and test."
      ],
      "metadata": {
        "id": "Vn-E9gcvpZ4c"
      }
    },
    {
      "cell_type": "markdown",
      "source": [
        "![Screenshot 2023-03-24 at 1.32.55 PM.png](data:image/png;base64,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)"
      ],
      "metadata": {
        "id": "nz81HQXgrlfg"
      }
    },
    {
      "cell_type": "code",
      "execution_count": 16,
      "metadata": {
        "colab": {
          "base_uri": "https://localhost:8080/"
        },
        "id": "j3LWEdt6N8KC",
        "outputId": "9aab0946-b55f-41f3-b762-9315cb133dbd"
      },
      "outputs": [
        {
          "output_type": "stream",
          "name": "stdout",
          "text": [
            "Number of training data: 7000\n",
            "Number of extra training data: 1659\n",
            "Number of eval data: 1034\n"
          ]
        }
      ],
      "source": [
        "print(f\"Number of training data: {len(sql_data_train)}\")\n",
        "print(f\"Number of extra training data: {len(sql_data_others_train)}\")\n",
        "print(f\"Number of eval data: {len(sql_data_dev)}\")"
      ]
    },
    {
      "cell_type": "markdown",
      "metadata": {
        "id": "m0_t2aN4MXeq"
      },
      "source": [
        "One example looks like:"
      ]
    },
    {
      "cell_type": "code",
      "execution_count": 17,
      "metadata": {
        "colab": {
          "base_uri": "https://localhost:8080/"
        },
        "id": "0mIbghp11CAa",
        "outputId": "8d0e85dc-b299-4b9c-d9ea-db1e2dec5299"
      },
      "outputs": [
        {
          "output_type": "execute_result",
          "data": {
            "text/plain": [
              "{'question': 'How many heads of the departments are older than 56 ?',\n",
              " 'question_tok': ['How',\n",
              "  'many',\n",
              "  'heads',\n",
              "  'of',\n",
              "  'the',\n",
              "  'departments',\n",
              "  'are',\n",
              "  'older',\n",
              "  'than',\n",
              "  '56',\n",
              "  '?'],\n",
              " 'query': 'SELECT count(*) FROM head WHERE age  >  56',\n",
              " 'query_tok': ['SELECT',\n",
              "  'count',\n",
              "  '(',\n",
              "  '*',\n",
              "  ')',\n",
              "  'FROM',\n",
              "  'head',\n",
              "  'WHERE',\n",
              "  'age',\n",
              "  '>',\n",
              "  '56'],\n",
              " 'table_id': 'department_management',\n",
              " 'sql': {'agg': [3],\n",
              "  'sel': [0],\n",
              "  'cond': [[10, 3, 56.0]],\n",
              "  'conj': [],\n",
              "  'group': [[]],\n",
              "  'order': [[], [], -1],\n",
              "  'special': 0}}"
            ]
          },
          "metadata": {},
          "execution_count": 17
        }
      ],
      "source": [
        "sql_data_train[0]"
      ]
    },
    {
      "cell_type": "markdown",
      "source": [
        "For data containde in spider_others, more \"multiple text questions to same complex sql query pairings\" are provided. \n",
        "\n",
        "---\n",
        "We can see the examples below:"
      ],
      "metadata": {
        "id": "C8CISHuyPTn0"
      }
    },
    {
      "cell_type": "code",
      "source": [
        "sql_data_others_train[0]"
      ],
      "metadata": {
        "colab": {
          "base_uri": "https://localhost:8080/"
        },
        "id": "CqByC5xFPSD4",
        "outputId": "c484c13a-de2c-4e16-98a9-2b1dbe246178"
      },
      "execution_count": 18,
      "outputs": [
        {
          "output_type": "execute_result",
          "data": {
            "text/plain": [
              "{'question': 'what is the biggest city in wyoming',\n",
              " 'question_tok': ['what', 'is', 'the', 'biggest', 'city', 'in', 'wyoming'],\n",
              " 'query': 'SELECT city_name FROM city WHERE population  =  ( SELECT MAX ( population ) FROM city WHERE state_name  =  \"wyoming\" ) AND state_name  =  \"wyoming\";',\n",
              " 'query_tok': ['SELECT',\n",
              "  'city_name',\n",
              "  'FROM',\n",
              "  'city',\n",
              "  'WHERE',\n",
              "  'population',\n",
              "  '=',\n",
              "  '(',\n",
              "  'SELECT',\n",
              "  'MAX',\n",
              "  '(',\n",
              "  'population',\n",
              "  ')',\n",
              "  'FROM',\n",
              "  'city',\n",
              "  'WHERE',\n",
              "  'state_name',\n",
              "  '=',\n",
              "  '``',\n",
              "  'wyoming',\n",
              "  \"''\",\n",
              "  ')',\n",
              "  'AND',\n",
              "  'state_name',\n",
              "  '=',\n",
              "  '``',\n",
              "  'wyoming',\n",
              "  \"''\",\n",
              "  ';'],\n",
              " 'table_id': 'geo',\n",
              " 'sql': {'agg': [0],\n",
              "  'sel': [7],\n",
              "  'cond': [[8,\n",
              "    2,\n",
              "    {'from': {'table_units': [['table_unit', 1]], 'conds': []},\n",
              "     'select': [False, [[1, [0, [0, 8, False], None]]]],\n",
              "     'where': [[False, 2, [0, [0, 10, False], None], '\"wyoming\"', None]],\n",
              "     'groupBy': [],\n",
              "     'having': [],\n",
              "     'orderBy': [],\n",
              "     'limit': None,\n",
              "     'intersect': None,\n",
              "     'union': None,\n",
              "     'except': None}],\n",
              "   [10, 2, '\"wyoming\"']],\n",
              "  'conj': ['and'],\n",
              "  'group': [[]],\n",
              "  'order': [[], [], -1],\n",
              "  'special': 0}}"
            ]
          },
          "metadata": {},
          "execution_count": 18
        }
      ]
    },
    {
      "cell_type": "code",
      "source": [
        "sql_data_others_train[1]"
      ],
      "metadata": {
        "colab": {
          "base_uri": "https://localhost:8080/"
        },
        "id": "5UaXyq_HPr4G",
        "outputId": "795aef31-93f1-48ab-fcf7-ae8be3fd3e27"
      },
      "execution_count": 19,
      "outputs": [
        {
          "output_type": "execute_result",
          "data": {
            "text/plain": [
              "{'question': 'what wyoming city has the largest population',\n",
              " 'question_tok': ['what',\n",
              "  'wyoming',\n",
              "  'city',\n",
              "  'has',\n",
              "  'the',\n",
              "  'largest',\n",
              "  'population'],\n",
              " 'query': 'SELECT city_name FROM city WHERE population  =  ( SELECT MAX ( population ) FROM city WHERE state_name  =  \"wyoming\" ) AND state_name  =  \"wyoming\";',\n",
              " 'query_tok': ['SELECT',\n",
              "  'city_name',\n",
              "  'FROM',\n",
              "  'city',\n",
              "  'WHERE',\n",
              "  'population',\n",
              "  '=',\n",
              "  '(',\n",
              "  'SELECT',\n",
              "  'MAX',\n",
              "  '(',\n",
              "  'population',\n",
              "  ')',\n",
              "  'FROM',\n",
              "  'city',\n",
              "  'WHERE',\n",
              "  'state_name',\n",
              "  '=',\n",
              "  '``',\n",
              "  'wyoming',\n",
              "  \"''\",\n",
              "  ')',\n",
              "  'AND',\n",
              "  'state_name',\n",
              "  '=',\n",
              "  '``',\n",
              "  'wyoming',\n",
              "  \"''\",\n",
              "  ';'],\n",
              " 'table_id': 'geo',\n",
              " 'sql': {'agg': [0],\n",
              "  'sel': [7],\n",
              "  'cond': [[8,\n",
              "    2,\n",
              "    {'from': {'table_units': [['table_unit', 1]], 'conds': []},\n",
              "     'select': [False, [[1, [0, [0, 8, False], None]]]],\n",
              "     'where': [[False, 2, [0, [0, 10, False], None], '\"wyoming\"', None]],\n",
              "     'groupBy': [],\n",
              "     'having': [],\n",
              "     'orderBy': [],\n",
              "     'limit': None,\n",
              "     'intersect': None,\n",
              "     'union': None,\n",
              "     'except': None}],\n",
              "   [10, 2, '\"wyoming\"']],\n",
              "  'conj': ['and'],\n",
              "  'group': [[]],\n",
              "  'order': [[], [], -1],\n",
              "  'special': 0}}"
            ]
          },
          "metadata": {},
          "execution_count": 19
        }
      ]
    },
    {
      "cell_type": "markdown",
      "metadata": {
        "id": "WduOxRV_dQ1w"
      },
      "source": [
        "### Database Schema Data"
      ]
    },
    {
      "cell_type": "code",
      "execution_count": 20,
      "metadata": {
        "colab": {
          "base_uri": "https://localhost:8080/"
        },
        "id": "Jd7W9pLxds7R",
        "outputId": "f3c3d447-28e3-4f6e-e589-af45e998e049"
      },
      "outputs": [
        {
          "output_type": "execute_result",
          "data": {
            "text/plain": [
              "166"
            ]
          },
          "metadata": {},
          "execution_count": 20
        }
      ],
      "source": [
        "len(table_data)"
      ]
    },
    {
      "cell_type": "code",
      "execution_count": 21,
      "metadata": {
        "colab": {
          "base_uri": "https://localhost:8080/"
        },
        "id": "6ewbMHqh1DwV",
        "outputId": "57bcc1be-808d-4440-fc66-7ae4136321af"
      },
      "outputs": [
        {
          "output_type": "execute_result",
          "data": {
            "text/plain": [
              "{'col_map': [[-1, '*'],\n",
              "  [0, 'bid'],\n",
              "  [0, 'business id'],\n",
              "  [0, 'name'],\n",
              "  [0, 'full address'],\n",
              "  [0, 'city'],\n",
              "  [0, 'latitude'],\n",
              "  [0, 'longitude'],\n",
              "  [0, 'review count'],\n",
              "  [0, 'is open'],\n",
              "  [0, 'rating'],\n",
              "  [0, 'state'],\n",
              "  [1, 'id'],\n",
              "  [1, 'business id'],\n",
              "  [1, 'category name'],\n",
              "  [2, 'uid'],\n",
              "  [2, 'user id'],\n",
              "  [2, 'name'],\n",
              "  [3, 'cid'],\n",
              "  [3, 'business id'],\n",
              "  [3, 'count'],\n",
              "  [3, 'day'],\n",
              "  [4, 'id'],\n",
              "  [4, 'business id'],\n",
              "  [4, 'neighbourhood name'],\n",
              "  [5, 'rid'],\n",
              "  [5, 'business id'],\n",
              "  [5, 'user id'],\n",
              "  [5, 'rating'],\n",
              "  [5, 'text'],\n",
              "  [5, 'year'],\n",
              "  [5, 'month'],\n",
              "  [6, 'tip id'],\n",
              "  [6, 'business id'],\n",
              "  [6, 'text'],\n",
              "  [6, 'user id'],\n",
              "  [6, 'likes'],\n",
              "  [6, 'year'],\n",
              "  [6, 'month']]}"
            ]
          },
          "metadata": {},
          "execution_count": 21
        }
      ],
      "source": [
        "table_data['yelp']"
      ]
    },
    {
      "cell_type": "code",
      "source": [
        "table_data['concert_singer']"
      ],
      "metadata": {
        "colab": {
          "base_uri": "https://localhost:8080/"
        },
        "id": "zD1naJBZI2km",
        "outputId": "bf125879-745f-4666-bdcf-c946f3d5cae0"
      },
      "execution_count": 22,
      "outputs": [
        {
          "output_type": "execute_result",
          "data": {
            "text/plain": [
              "{'col_map': [[-1, '*'],\n",
              "  [0, 'stadium id'],\n",
              "  [0, 'location'],\n",
              "  [0, 'name'],\n",
              "  [0, 'capacity'],\n",
              "  [0, 'highest'],\n",
              "  [0, 'lowest'],\n",
              "  [0, 'average'],\n",
              "  [1, 'singer id'],\n",
              "  [1, 'name'],\n",
              "  [1, 'country'],\n",
              "  [1, 'song name'],\n",
              "  [1, 'song release year'],\n",
              "  [1, 'age'],\n",
              "  [1, 'is male'],\n",
              "  [2, 'concert id'],\n",
              "  [2, 'concert name'],\n",
              "  [2, 'theme'],\n",
              "  [2, 'stadium id'],\n",
              "  [2, 'year'],\n",
              "  [3, 'concert id'],\n",
              "  [3, 'singer id']]}"
            ]
          },
          "metadata": {},
          "execution_count": 22
        }
      ]
    },
    {
      "cell_type": "markdown",
      "source": [
        "## Section 4: Code for Evaluation"
      ],
      "metadata": {
        "id": "umohFnf6x69d"
      }
    },
    {
      "cell_type": "code",
      "source": [
        "def evaluate(preds_file, labels_file, evaluation_type=\"all\", \n",
        "             database_dir=\"./data/spider/database\", \n",
        "             table_file=\"./data/spider/tables.json\",\n",
        "             verbose=\"False\"):\n",
        "    \"\"\"\n",
        "    Runs the evaluation script for the Spider dataset using the provided labels and predictions files.\n",
        "    It prints the evaluation results to the console and returns the subprocess result object.\n",
        "\n",
        "    Args:\n",
        "        preds_file (str): Path to the predictions file. In this file, each line is `a ground-truth SQL \\t db_id`.\n",
        "        labels_file (str): Path to the labels (gold) file. In this file, each line is a predicted SQL.\n",
        "        evaluation_type (str): Evaluation type, can be 'all', 'exec', or 'match'.\n",
        "        database_dir (str): Path to the directory containing the Spider dataset's database files.\n",
        "        table_file (str): Path to the tables.json file from the Spider dataset.\n",
        "        verbose (str): Flag to trun on or off printing details.\n",
        "\n",
        "    Returns:\n",
        "        result (subprocess.CompletedProcess): A CompletedProcess instance representing the evaluation subprocess.\n",
        "                                              It contains attributes like 'stdout' and 'stderr' to access the output\n",
        "                                              and error messages respectively.\n",
        "    \"\"\"\n",
        "\n",
        "    cmd = [\n",
        "        \"python3\", \"scripts/evaluation.py\",\n",
        "        \"--gold\", labels_file,\n",
        "        \"--pred\", preds_file,\n",
        "        \"--etype\", evaluation_type,\n",
        "        \"--db\", database_dir,\n",
        "        \"--table\", table_file,\n",
        "        \"--verbose\", verbose\n",
        "    ]\n",
        "\n",
        "    result = subprocess.run(cmd, capture_output=True, text=True)\n",
        "\n",
        "    print(result.stdout)\n",
        "\n",
        "    return result"
      ],
      "metadata": {
        "id": "um6ihVWO0eeG"
      },
      "execution_count": 23,
      "outputs": []
    },
    {
      "cell_type": "markdown",
      "metadata": {
        "id": "Lfh4mCersVSB"
      },
      "source": [
        "## Section 5: Non-DL Model (Milestone 2)"
      ]
    },
    {
      "cell_type": "code",
      "execution_count": 35,
      "metadata": {
        "id": "fEIRwW03u-9H"
      },
      "outputs": [],
      "source": [
        "import json\n",
        "import numpy as np\n",
        "import torch\n",
        "from sklearn.feature_extraction.text import HashingVectorizer\n",
        "from sklearn.ensemble import RandomForestClassifier\n",
        "from sklearn.model_selection import train_test_split\n",
        "from sklearn.metrics import accuracy_score\n",
        "from sklearn.preprocessing import LabelEncoder"
      ]
    },
    {
      "cell_type": "markdown",
      "source": [
        "### Random Forest Model"
      ],
      "metadata": {
        "id": "bV9ddrV76pgn"
      }
    },
    {
      "cell_type": "code",
      "execution_count": 36,
      "metadata": {
        "id": "mOZKi9rUwduz"
      },
      "outputs": [],
      "source": [
        "class RF_TextToSQL(torch.nn.Module):\n",
        "    def __init__(self):\n",
        "        super().__init__()\n",
        "        self.vectorizer = HashingVectorizer(n_features=2**16)\n",
        "        self.model = RandomForestClassifier(n_estimators=60)\n",
        "        self.label_encoder = LabelEncoder()\n",
        "\n",
        "    def fit(self, X, y):\n",
        "        y_encoded = self.label_encoder.fit_transform(y)\n",
        "        X_vec = self.vectorizer.transform(X)\n",
        "        self.model.fit(X_vec, y_encoded)\n",
        "\n",
        "    def predict(self, X):\n",
        "        X_vec = self.vectorizer.transform(X)\n",
        "        y_pred_encoded = self.model.predict(X_vec)\n",
        "        return self.label_encoder.inverse_transform(y_pred_encoded)\n",
        "\n",
        "    def write_predictions_to_file(self, text_questions, labels, preds_filename, labels_filename):\n",
        "        predicted_sql_queries = self.predict(text_questions)\n",
        "\n",
        "        with open(preds_filename, 'w') as output_file:\n",
        "            for pred in predicted_sql_queries:\n",
        "                output_file.write(pred + '\\n')\n",
        "\n",
        "        with open(labels_filename, 'w') as output_file:\n",
        "            for label in labels:\n",
        "                output_file.write(label + '\\n')\n",
        "                \n",
        "\n",
        "def sql_dict_to_string(sql_dict):\n",
        "    sql_string = json.dumps(sql_dict, separators=(',', ':'))\n",
        "    return sql_string\n",
        "\n",
        "def get_text_and_sql(data, table_data, add_column_names=False):\n",
        "    text = []\n",
        "    sql = []\n",
        "    sql_with_table_id = []\n",
        "\n",
        "    for item in data:\n",
        "        table_id = item['table_id']\n",
        "\n",
        "        if add_column_names:\n",
        "            # Get column names in a table and concat them into a string\n",
        "            column_names = [col[1] for col in table_data[table_id]['col_map']]\n",
        "            column_names_str = '; '.join(column_names)\n",
        "            text.append(f\"{item['question']} | {table_id} | {column_names_str}\")\n",
        "        else: \n",
        "            text.append(item['question'])\n",
        "        sql.append(item['query'])\n",
        "        sql_with_table_id.append(f\"{item['query']}\\t{table_id}\")\n",
        "        # sql.append(sql_dict_to_string(item['sql']))\n",
        "\n",
        "    return text, sql, sql_with_table_id"
      ]
    },
    {
      "cell_type": "code",
      "execution_count": 37,
      "metadata": {
        "id": "Q9WMgt-IsUOE"
      },
      "outputs": [],
      "source": [
        "if RUN_NON_DL_MODEL:\n",
        "    # Preprocess data\n",
        "    train_text, train_sql, train_sql_with_table_id = get_text_and_sql(sql_data_train, table_data)\n",
        "    dev_text, dev_sql, dev_sql_with_table_id = get_text_and_sql(sql_data_dev, table_data)\n",
        "\n",
        "    # Use a smaller subset of the dataset\n",
        "    SUBSET_SIZE = 0.99\n",
        "    _, _, train_sql_with_table_id, _ = train_test_split(train_text, train_sql_with_table_id, train_size=SUBSET_SIZE, random_state=SEED)\n",
        "    train_text, _, train_sql, _ = train_test_split(train_text, train_sql, train_size=SUBSET_SIZE, random_state=SEED)\n",
        "\n",
        "    # Train-test split\n",
        "    TEST_SIZE = 0.3\n",
        "    _, _, y_train_with_table_id, y_val_with_table_id = train_test_split(train_text, train_sql_with_table_id, test_size=TEST_SIZE, random_state=SEED)\n",
        "    X_train, X_val, y_train, y_val = train_test_split(train_text, train_sql, test_size=TEST_SIZE, random_state=SEED)\n",
        "\n",
        "    # Initialize model\n",
        "    model = RF_TextToSQL()\n",
        "\n",
        "    # Train model\n",
        "    model.fit(X_train, y_train)"
      ]
    },
    {
      "cell_type": "markdown",
      "source": [
        "### Evaluation - Non-DL model"
      ],
      "metadata": {
        "id": "35ISq7-_6y9W"
      }
    },
    {
      "cell_type": "markdown",
      "source": [
        "Evaluation on the training set"
      ],
      "metadata": {
        "id": "RrFMgPFE63Gt"
      }
    },
    {
      "cell_type": "code",
      "source": [
        "if RUN_NON_DL_MODEL:\n",
        "    # Write predictions of training set to a file\n",
        "    model.write_predictions_to_file(X_train, y_train_with_table_id, 'preds.txt', 'labels.txt')\n",
        "\n",
        "    evaluation_train = evaluate(preds_file=\"preds.txt\", \n",
        "                                labels_file=\"labels.txt\", \n",
        "                                evaluation_type=\"all\", \n",
        "                                database_dir=\"./data/spider/database\", \n",
        "                                table_file=\"./data/spider/tables.json\",\n",
        "                                verbose=\"False\")"
      ],
      "metadata": {
        "id": "vLULD8x7zRAC",
        "colab": {
          "base_uri": "https://localhost:8080/"
        },
        "outputId": "7ad9ac1f-cdb7-4a17-94b8-3fe9f74e6417"
      },
      "execution_count": 38,
      "outputs": [
        {
          "output_type": "stream",
          "name": "stdout",
          "text": [
            "                     easy                 medium               hard                 extra                all                 \n",
            "count                1159                 1943                 1001                 748                  4851                \n",
            "=====================   EXECUTION ACCURACY     =====================\n",
            "execution            0.997                0.999                1.000                0.999                0.999               \n",
            "\n",
            "====================== EXACT MATCHING ACCURACY =====================\n",
            "exact match          0.997                0.999                1.000                1.000                0.999               \n",
            "\n",
            "---------------------PARTIAL MATCHING ACCURACY----------------------\n",
            "select               1.000                1.000                1.000                1.000                1.000               \n",
            "select(no AGG)       1.000                1.000                1.000                1.000                1.000               \n",
            "where                1.000                1.000                1.000                1.000                1.000               \n",
            "where(no OP)         1.000                1.000                1.000                1.000                1.000               \n",
            "group(no Having)     1.000                1.000                1.000                1.000                1.000               \n",
            "group                1.000                1.000                1.000                1.000                1.000               \n",
            "order                1.000                1.000                1.000                1.000                1.000               \n",
            "and/or               1.000                1.000                1.000                1.000                1.000               \n",
            "IUEN                 0.000                0.000                1.000                1.000                1.000               \n",
            "keywords             1.000                1.000                1.000                1.000                1.000               \n",
            "---------------------- PARTIAL MATCHING RECALL ----------------------\n",
            "select               0.997                0.999                1.000                1.000                0.999               \n",
            "select(no AGG)       0.997                0.999                1.000                1.000                0.999               \n",
            "where                1.000                1.000                1.000                1.000                1.000               \n",
            "where(no OP)         1.000                1.000                1.000                1.000                1.000               \n",
            "group(no Having)     1.000                0.998                1.000                1.000                0.999               \n",
            "group                1.000                0.998                1.000                1.000                0.999               \n",
            "order                1.000                1.000                1.000                1.000                1.000               \n",
            "and/or               1.000                1.000                1.000                1.000                1.000               \n",
            "IUEN                 0.000                0.000                1.000                1.000                1.000               \n",
            "keywords             1.000                0.999                1.000                1.000                1.000               \n",
            "---------------------- PARTIAL MATCHING F1 --------------------------\n",
            "select               0.999                1.000                1.000                1.000                1.000               \n",
            "select(no AGG)       0.999                1.000                1.000                1.000                1.000               \n",
            "where                1.000                1.000                1.000                1.000                1.000               \n",
            "where(no OP)         1.000                1.000                1.000                1.000                1.000               \n",
            "group(no Having)     1.000                0.999                1.000                1.000                1.000               \n",
            "group                1.000                0.999                1.000                1.000                1.000               \n",
            "order                1.000                1.000                1.000                1.000                1.000               \n",
            "and/or               1.000                1.000                1.000                1.000                1.000               \n",
            "IUEN                 1.000                1.000                1.000                1.000                1.000               \n",
            "keywords             1.000                1.000                1.000                1.000                1.000               \n",
            "\n"
          ]
        }
      ]
    },
    {
      "cell_type": "markdown",
      "source": [
        "Evaluation on the test set"
      ],
      "metadata": {
        "id": "lrs-0PXa66YX"
      }
    },
    {
      "cell_type": "code",
      "source": [
        "if RUN_NON_DL_MODEL:\n",
        "    model.write_predictions_to_file(dev_text, dev_sql_with_table_id, 'preds.txt', 'labels.txt')\n",
        "\n",
        "    evaluation_test = evaluate(preds_file=\"preds.txt\", \n",
        "                              labels_file=\"labels.txt\", \n",
        "                              evaluation_type=\"all\", \n",
        "                              database_dir=\"./data/spider/database\", \n",
        "                              table_file=\"./data/spider/tables.json\",\n",
        "                              verbose=\"False\")"
      ],
      "metadata": {
        "id": "6l5YA1mb4l2L",
        "colab": {
          "base_uri": "https://localhost:8080/"
        },
        "outputId": "c1af70c8-9a32-44ed-d885-26e6e355a1ca"
      },
      "execution_count": 39,
      "outputs": [
        {
          "output_type": "stream",
          "name": "stdout",
          "text": [
            "                     easy                 medium               hard                 extra                all                 \n",
            "count                248                  446                  174                  166                  1034                \n",
            "=====================   EXECUTION ACCURACY     =====================\n",
            "execution            0.016                0.000                0.006                0.000                0.005               \n",
            "\n",
            "====================== EXACT MATCHING ACCURACY =====================\n",
            "exact match          0.020                0.000                0.000                0.000                0.005               \n",
            "\n",
            "---------------------PARTIAL MATCHING ACCURACY----------------------\n",
            "select               0.778                0.000                0.500                0.000                0.360               \n",
            "select(no AGG)       0.778                0.000                0.500                0.000                0.360               \n",
            "where                0.333                0.000                0.000                0.000                0.125               \n",
            "where(no OP)         0.333                0.000                0.000                0.000                0.125               \n",
            "group(no Having)     0.000                0.000                0.000                0.000                0.000               \n",
            "group                0.000                0.000                0.000                0.000                0.000               \n",
            "order                0.000                0.000                0.000                0.000                0.000               \n",
            "and/or               1.000                0.899                0.897                0.880                0.920               \n",
            "IUEN                 0.000                0.000                0.000                0.000                0.000               \n",
            "keywords             0.250                0.000                0.250                0.000                0.118               \n",
            "---------------------- PARTIAL MATCHING RECALL ----------------------\n",
            "select               0.028                0.000                0.011                0.000                0.009               \n",
            "select(no AGG)       0.028                0.000                0.011                0.000                0.009               \n",
            "where                0.009                0.000                0.000                0.000                0.002               \n",
            "where(no OP)         0.009                0.000                0.000                0.000                0.002               \n",
            "group(no Having)     0.000                0.000                0.000                0.000                0.000               \n",
            "group                0.000                0.000                0.000                0.000                0.000               \n",
            "order                0.000                0.000                0.000                0.000                0.000               \n",
            "and/or               1.000                1.000                1.000                1.000                1.000               \n",
            "IUEN                 0.000                0.000                0.000                0.000                0.000               \n",
            "keywords             0.007                0.000                0.006                0.000                0.002               \n",
            "---------------------- PARTIAL MATCHING F1 --------------------------\n",
            "select               0.054                1.000                0.022                1.000                0.017               \n",
            "select(no AGG)       0.054                1.000                0.022                1.000                0.017               \n",
            "where                0.018                1.000                1.000                1.000                0.004               \n",
            "where(no OP)         0.018                1.000                1.000                1.000                0.004               \n",
            "group(no Having)     1.000                1.000                1.000                1.000                1.000               \n",
            "group                1.000                1.000                1.000                1.000                1.000               \n",
            "order                1.000                1.000                1.000                1.000                1.000               \n",
            "and/or               1.000                0.947                0.945                0.936                0.958               \n",
            "IUEN                 1.000                1.000                1.000                1.000                1.000               \n",
            "keywords             0.013                1.000                0.011                1.000                0.005               \n",
            "\n"
          ]
        }
      ]
    },
    {
      "cell_type": "markdown",
      "source": [
        "# Section 6: Base DL Model"
      ],
      "metadata": {
        "id": "4mWXPmABGKSv"
      }
    },
    {
      "cell_type": "markdown",
      "source": [
        "### RNN Model"
      ],
      "metadata": {
        "id": "-aFRUFuvMRQS"
      }
    },
    {
      "cell_type": "code",
      "source": [
        "import torch\n",
        "import torch.nn as nn\n",
        "import torch.optim as optim\n",
        "from torch.utils.data import Dataset\n",
        "from torch.utils.data import DataLoader\n",
        "\n",
        "from transformers import BertTokenizer\n",
        "\n",
        "from torch.cuda.amp import GradScaler, autocast"
      ],
      "metadata": {
        "id": "gtUJBT0UsJ9G"
      },
      "execution_count": null,
      "outputs": []
    },
    {
      "cell_type": "markdown",
      "source": [
        "Create custom dataset and dataloader"
      ],
      "metadata": {
        "id": "Ko3DlQQGXfTs"
      }
    },
    {
      "cell_type": "code",
      "source": [
        "class TextToSQLDataset(Dataset):\n",
        "    def __init__(self, data, schema, text_tokenizer, sql_tokenizer, max_seq_length):\n",
        "        self.data = data\n",
        "        self.schema = schema\n",
        "        self.text_tokenizer = text_tokenizer\n",
        "        self.sql_tokenizer = sql_tokenizer\n",
        "        self.max_seq_length = max_seq_length\n",
        "\n",
        "    def __len__(self):\n",
        "        return len(self.data)\n",
        "\n",
        "    def __getitem__(self, idx):\n",
        "        item = self.data[idx]\n",
        "        question = item['question']\n",
        "        query = item['query']\n",
        "        \n",
        "        # Tokenize the feature (text question)\n",
        "        tokens = self.text_tokenizer.encode_plus(\n",
        "            question,\n",
        "            add_special_tokens=False,\n",
        "            max_length=self.max_seq_length,\n",
        "            padding='max_length',\n",
        "            truncation=True,\n",
        "            return_tensors='pt'\n",
        "        )\n",
        "        \n",
        "        input_ids = tokens['input_ids'][0]\n",
        "        attention_mask = tokens['attention_mask'][0]\n",
        "\n",
        "        # Tokenize the label (sql query)\n",
        "        label_tokenized = self.sql_tokenizer.encode(\n",
        "            query,\n",
        "            add_special_tokens=False,\n",
        "            max_length=self.max_seq_length,\n",
        "            padding='max_length',\n",
        "            truncation=True,\n",
        "            return_tensors='pt'\n",
        "        )\n",
        "\n",
        "        return {\n",
        "            'input_ids': input_ids,\n",
        "            'attention_mask': attention_mask,\n",
        "            'label': label_tokenized\n",
        "        }"
      ],
      "metadata": {
        "id": "eh5Kwux9TGr-"
      },
      "execution_count": null,
      "outputs": []
    },
    {
      "cell_type": "code",
      "source": [
        "if RUN_RNN_MODEL:\n",
        "    pretrained_model_name = 'bert-base-uncased'\n",
        "    text_tokenizer = BertTokenizer.from_pretrained(pretrained_model_name)\n",
        "    sql_tokenizer = BertTokenizer.from_pretrained(pretrained_model_name)\n",
        "\n",
        "    # Define a custom SQL vocabulary\n",
        "    sql_keywords = [\n",
        "        \"SELECT\", \"FROM\", \"WHERE\", \"AND\", \"OR\", \"NOT\", \"INSERT\", \"INTO\", \"VALUES\",\n",
        "        \"UPDATE\", \"SET\", \"DELETE\", \"CREATE\", \"TABLE\", \"ALTER\", \"DROP\", \"INDEX\",\n",
        "        \"UNION\", \"JOIN\", \"LEFT\", \"RIGHT\", \"INNER\", \"OUTER\", \"ON\", \"AS\", \"DISTINCT\",\n",
        "        \"GROUP\", \"BY\", \"HAVING\", \"ORDER\", \"ASC\", \"DESC\", \"LIMIT\", \"OFFSET\", \"BETWEEN\",\n",
        "        \"NULL\", \"LIKE\", \"IN\", \"EXISTS\", \"ALL\", \"ANY\", \"SOME\", \"CASE\", \"WHEN\", \"THEN\",\n",
        "        \"ELSE\", \"END\", \"CAST\", \"IS\", \"COUNT\", \"SUM\", \"AVG\", \"MIN\", \"MAX\"\n",
        "    ]\n",
        "\n",
        "    # Add the SQL keywords to the tokenizer's vocabulary\n",
        "    for keyword in sql_keywords:\n",
        "        sql_tokenizer.add_tokens([keyword], special_tokens=True)\n",
        "\n",
        "    # Set the maximum sequence length for the input\n",
        "    max_seq_length = 64\n",
        "\n",
        "    # Load data and schema\n",
        "    data = sql_data_train\n",
        "    schema = table_data\n",
        "\n",
        "    # Create an instance of the custom dataset class\n",
        "    text_to_sql_dataset = TextToSQLDataset(data, schema, text_tokenizer, sql_tokenizer, max_seq_length)\n",
        "\n",
        "    # Create a DataLoader for training\n",
        "    batch_size = 32\n",
        "    train_loader = DataLoader(text_to_sql_dataset, batch_size=batch_size, shuffle=True)"
      ],
      "metadata": {
        "id": "7FMDsJTFTOO1",
        "colab": {
          "base_uri": "https://localhost:8080/",
          "height": 144,
          "referenced_widgets": [
            "4ff0cff5071a439ea15be54d55c7f00d",
            "b517f9f0dc52411783bec86394d2b5c3",
            "5a8da79bae814b9ba1fe730340815b9e",
            "a73acabd02f4436f8e6e1c2b3fdf8a8f",
            "d8c096df30f248e8ae4dadaf68bd9a9c",
            "20e4f89dd05d4e1795083c0b4a033505",
            "41873a799c284cb9ba056ab4e428df71",
            "e0dc662a706442e887b68bb0b65bce3f",
            "b265ea7169a244c284b736689e60b516",
            "60bfa27f8ef847d788a695b295cc8d2d",
            "8e6e35915acf48b7b301ef6bac10e4c7",
            "22d09ec203b74e4ab4e56cc84024628a",
            "ac8c38d9f4b04617aaac5b713cab4b5f",
            "fdd5486d6b074ecd8b244061c75da224",
            "24d150c85c5a456f9a00101c3b2cb080",
            "1286766e93eb44e8a697ede8f8a3be05",
            "e9f0397435f54a4bb0d9076bf79e85f8",
            "67a19d509961493f9a7624ee4529ccc5",
            "a5c5a7319dbf4f42ac1f4261b872ecf6",
            "692b107c9a7044fbb3b8ed7f772e0f52",
            "da9ca369f6ef4540825dddd2b44bc9e7",
            "4d78ce8146874b15b44a22ca72551645",
            "20182c8a3452418aa6871ad1cd14726e",
            "c1c71fbabd724f0b9c9c280bcddfee16",
            "c3051f7cae974cb0aad76eef70bb74b6",
            "478d6d0fdfe94e85a92f7146c37ebeb6",
            "fa347b01d4384376bbfe6d7534c44be9",
            "18db130f2394445dbd93440c59e19a2e",
            "c9047b267cd64aeca8b275cb8bdabb3a",
            "1ac2277369d64ec894bf9826079c12ec",
            "698173b63f3f4c38af04ef550f4bef27",
            "56d37b99df3e4cae95acafd41a6f0c13",
            "7f77000f4d0e447ea4c0e18550150824",
            "410c82423275454db30d431efb9097d0",
            "1a0de468e24f46d7be294f1fd7ea92c3",
            "5ea70ab6f9b1435a833aa385814389d6",
            "935ee77cf90348279170c79b1638c183",
            "d99547e362c74291b8d497883e7774b6",
            "9443ffe8cce64f0c9bf7af4f930b189b",
            "0ef040e040164dcaabb9660664de3ce4",
            "60d4f9b5230c4662bda442b371bf5d08",
            "38ba12bbbdfd4b79b5b23689862507ba",
            "fe0ed43ca1bc4059befc8b59c79d4419",
            "447c88a330304cfeb1aeacc2f479e23c"
          ]
        },
        "outputId": "fda94a53-e744-4bc4-b56f-9f35716bc1d8"
      },
      "execution_count": null,
      "outputs": [
        {
          "output_type": "display_data",
          "data": {
            "text/plain": [
              "Downloading:   0%|          | 0.00/28.0 [00:00<?, ?B/s]"
            ],
            "application/vnd.jupyter.widget-view+json": {
              "version_major": 2,
              "version_minor": 0,
              "model_id": "4ff0cff5071a439ea15be54d55c7f00d"
            }
          },
          "metadata": {}
        },
        {
          "output_type": "display_data",
          "data": {
            "text/plain": [
              "Downloading:   0%|          | 0.00/226k [00:00<?, ?B/s]"
            ],
            "application/vnd.jupyter.widget-view+json": {
              "version_major": 2,
              "version_minor": 0,
              "model_id": "22d09ec203b74e4ab4e56cc84024628a"
            }
          },
          "metadata": {}
        },
        {
          "output_type": "display_data",
          "data": {
            "text/plain": [
              "Downloading:   0%|          | 0.00/455k [00:00<?, ?B/s]"
            ],
            "application/vnd.jupyter.widget-view+json": {
              "version_major": 2,
              "version_minor": 0,
              "model_id": "20182c8a3452418aa6871ad1cd14726e"
            }
          },
          "metadata": {}
        },
        {
          "output_type": "display_data",
          "data": {
            "text/plain": [
              "Downloading:   0%|          | 0.00/570 [00:00<?, ?B/s]"
            ],
            "application/vnd.jupyter.widget-view+json": {
              "version_major": 2,
              "version_minor": 0,
              "model_id": "410c82423275454db30d431efb9097d0"
            }
          },
          "metadata": {}
        }
      ]
    },
    {
      "cell_type": "code",
      "source": [
        "class RNN_TextToSQL(nn.Module):\n",
        "    def __init__(self, vocab_size, embedding_dim, hidden_dim, output_dim, n_layers, dropout):\n",
        "        super(RNN_TextToSQL, self).__init__()\n",
        "        \n",
        "        self.embedding = nn.Embedding(vocab_size, embedding_dim)\n",
        "        self.rnn = nn.LSTM(embedding_dim, hidden_dim, n_layers, dropout=dropout, batch_first=True)\n",
        "        self.fc = nn.Linear(hidden_dim, output_dim)\n",
        "        \n",
        "    def forward(self, input_ids, attention_mask):\n",
        "        # Embed the tokens\n",
        "        embedded = self.embedding(input_ids)\n",
        "        \n",
        "        # Apply the attention mask\n",
        "        embedded = embedded * attention_mask.unsqueeze(-1)\n",
        "        \n",
        "        # Pass the embedded tokens through the RNN\n",
        "        rnn_output, _ = self.rnn(embedded)\n",
        "        \n",
        "        # Pass the entire sequence through the fully connected layer\n",
        "        out = self.fc(rnn_output)\n",
        "        \n",
        "        return out\n",
        "\n",
        "def predict(model, text, text_tokenizer, sql_tokenizer, device):\n",
        "    model.eval()\n",
        "\n",
        "    # Tokenize the input text\n",
        "    tokens = text_tokenizer.encode_plus(\n",
        "        text,\n",
        "        add_special_tokens=False,\n",
        "        max_length=max_seq_length,\n",
        "        padding='max_length',\n",
        "        truncation=True,\n",
        "        return_tensors='pt'\n",
        "    )\n",
        "\n",
        "    input_ids = tokens['input_ids']\n",
        "    attention_mask = tokens['attention_mask']\n",
        "\n",
        "    # Move input tensors to the device\n",
        "    input_ids = input_ids.to(device)\n",
        "    attention_mask = attention_mask.to(device)\n",
        "\n",
        "    # Disable gradient calculation during prediction\n",
        "    with torch.no_grad():\n",
        "        # Pass the input tensors through the model\n",
        "        logits = model(input_ids, attention_mask)\n",
        "\n",
        "    # Get the predicted token indices\n",
        "    predicted_indices = torch.argmax(logits, dim=-1)\n",
        "\n",
        "    # Convert the predicted token indices to text\n",
        "    predicted_text = sql_tokenizer.decode(predicted_indices[0].tolist(), skip_special_tokens=True)\n",
        "\n",
        "    return predicted_text"
      ],
      "metadata": {
        "id": "WNsil9EUUJr0"
      },
      "execution_count": null,
      "outputs": []
    },
    {
      "cell_type": "code",
      "source": [
        "if RUN_RNN_MODEL:\n",
        "    vocab_size = len(text_tokenizer.vocab)\n",
        "    embedding_dim = 256\n",
        "    hidden_dim = 512\n",
        "    output_dim = len(sql_tokenizer.vocab) \n",
        "    dropout = 0.3\n",
        "    n_layers = 8\n",
        "\n",
        "    n_epochs = 50\n",
        "\n",
        "    model = RNN_TextToSQL(vocab_size, embedding_dim, hidden_dim, output_dim, n_layers, dropout)\n",
        "    model = model.to(device)\n",
        "\n",
        "    # Define the loss function and optimizer\n",
        "    loss_function = nn.CrossEntropyLoss()\n",
        "    optimizer = optim.Adam(model.parameters(), lr=1e-5)\n",
        "\n",
        "    # Create a GradScaler instance for mixed-precision training\n",
        "    scaler = GradScaler()\n",
        "\n",
        "    # Training loop\n",
        "    for epoch in range(n_epochs):\n",
        "        # Wrap the DataLoader with tqdm for progress bar\n",
        "        progress_bar = tqdm(train_loader, desc=f\"Epoch {epoch + 1}/{n_epochs}\")\n",
        "\n",
        "        for step, batch in enumerate(progress_bar):\n",
        "            # Unpack the data and move it to the device\n",
        "            input_ids = batch['input_ids'].to(device)\n",
        "            attention_mask = batch['attention_mask'].to(device)\n",
        "            labels = batch['label'].to(device)\n",
        "\n",
        "            # Zero the gradients\n",
        "            optimizer.zero_grad()\n",
        "\n",
        "            # Forward pass with autocast for mixed-precision training\n",
        "            with autocast():\n",
        "                outputs = model(input_ids, attention_mask)\n",
        "\n",
        "                # Calculate the loss\n",
        "                loss = loss_function(outputs.view(-1, outputs.shape[-1]), labels.view(-1))\n",
        "\n",
        "            # Scale the loss and perform a backward pass\n",
        "            scaler.scale(loss).backward()\n",
        "\n",
        "            # Update the weights\n",
        "            scaler.step(optimizer)\n",
        "            scaler.update()\n",
        "\n",
        "            # Update the progress bar description with the current loss\n",
        "            progress_bar.set_description(f\"Epoch {epoch + 1}/{n_epochs}, Loss: {loss.item():.4f}\")"
      ],
      "metadata": {
        "id": "jzk88LkFYZRa",
        "colab": {
          "base_uri": "https://localhost:8080/"
        },
        "outputId": "16caa2a0-d7d0-4e79-fe43-1e5cc2903217"
      },
      "execution_count": null,
      "outputs": [
        {
          "output_type": "stream",
          "name": "stderr",
          "text": [
            "Epoch 1/50, Loss: 5.7977: 100%|██████████| 219/219 [00:23<00:00,  9.18it/s]\n",
            "Epoch 2/50, Loss: 3.9772: 100%|██████████| 219/219 [00:25<00:00,  8.73it/s]\n",
            "Epoch 3/50, Loss: 4.0655: 100%|██████████| 219/219 [00:23<00:00,  9.20it/s]\n",
            "Epoch 4/50, Loss: 3.1294: 100%|██████████| 219/219 [00:23<00:00,  9.50it/s]\n",
            "Epoch 5/50, Loss: 2.9070: 100%|██████████| 219/219 [00:25<00:00,  8.65it/s]\n",
            "Epoch 6/50, Loss: 2.8986: 100%|██████████| 219/219 [00:23<00:00,  9.33it/s]\n",
            "Epoch 7/50, Loss: 3.3136: 100%|██████████| 219/219 [00:23<00:00,  9.22it/s]\n",
            "Epoch 8/50, Loss: 2.8913: 100%|██████████| 219/219 [00:25<00:00,  8.62it/s]\n",
            "Epoch 9/50, Loss: 3.4313: 100%|██████████| 219/219 [00:22<00:00,  9.54it/s]\n",
            "Epoch 10/50, Loss: 3.0941: 100%|██████████| 219/219 [00:25<00:00,  8.67it/s]\n",
            "Epoch 11/50, Loss: 2.6732: 100%|██████████| 219/219 [00:23<00:00,  9.18it/s]\n",
            "Epoch 12/50, Loss: 3.0319: 100%|██████████| 219/219 [00:23<00:00,  9.44it/s]\n",
            "Epoch 13/50, Loss: 2.9569: 100%|██████████| 219/219 [00:25<00:00,  8.59it/s]\n",
            "Epoch 14/50, Loss: 2.2315: 100%|██████████| 219/219 [00:22<00:00,  9.54it/s]\n",
            "Epoch 15/50, Loss: 3.0689: 100%|██████████| 219/219 [00:24<00:00,  9.04it/s]\n",
            "Epoch 16/50, Loss: 2.6476: 100%|██████████| 219/219 [00:25<00:00,  8.59it/s]\n",
            "Epoch 17/50, Loss: 2.9196: 100%|██████████| 219/219 [00:22<00:00,  9.54it/s]\n",
            "Epoch 18/50, Loss: 2.8582: 100%|██████████| 219/219 [00:24<00:00,  8.99it/s]\n",
            "Epoch 19/50, Loss: 3.0954:  72%|███████▏  | 158/219 [00:18<00:05, 10.24it/s]"
          ]
        }
      ]
    },
    {
      "cell_type": "code",
      "source": [
        "if RUN_RNN_MODEL:\n",
        "    input_text = sql_data_dev[0]['question']\n",
        "    predicted_query = predict(model, input_text, text_tokenizer, sql_tokenizer, device)\n",
        "    print(predicted_query)"
      ],
      "metadata": {
        "colab": {
          "base_uri": "https://localhost:8080/"
        },
        "id": "B1lx0UpL7im5",
        "outputId": "42ca5346-33ce-4fa2-dbe6-d731d7d7f224"
      },
      "execution_count": null,
      "outputs": [
        {
          "output_type": "stream",
          "name": "stdout",
          "text": [
            "select t ( from from from from from from\n"
          ]
        }
      ]
    },
    {
      "cell_type": "markdown",
      "source": [
        "This prediction shows that this model has not captured the structure of SQL queries. This shows the difficulty and complexity of our task. We need to increase the model capacity a lot and train it more. So, we moved on from this model and spent our time on the more advanced models."
      ],
      "metadata": {
        "id": "F2cfBzDtX6OM"
      }
    },
    {
      "cell_type": "markdown",
      "source": [
        "# Advanced Models\n",
        "\n",
        "Advanced models are in other notebooks."
      ],
      "metadata": {
        "id": "DmzhBo6YXwKK"
      }
    },
    {
      "cell_type": "code",
      "source": [],
      "metadata": {
        "id": "jPYgP68zX3ao"
      },
      "execution_count": null,
      "outputs": []
    }
  ],
  "metadata": {
    "colab": {
      "provenance": [],
      "toc_visible": true,
      "collapsed_sections": [
        "DmzhBo6YXwKK"
      ],
      "include_colab_link": true
    },
    "kernelspec": {
      "display_name": "Python 3",
      "name": "python3"
    },
    "language_info": {
      "name": "python"
    },
    "accelerator": "GPU",
    "gpuClass": "standard",
    "widgets": {
      "application/vnd.jupyter.widget-state+json": {
        "4ff0cff5071a439ea15be54d55c7f00d": {
          "model_module": "@jupyter-widgets/controls",
          "model_name": "HBoxModel",
          "model_module_version": "1.5.0",
          "state": {
            "_dom_classes": [],
            "_model_module": "@jupyter-widgets/controls",
            "_model_module_version": "1.5.0",
            "_model_name": "HBoxModel",
            "_view_count": null,
            "_view_module": "@jupyter-widgets/controls",
            "_view_module_version": "1.5.0",
            "_view_name": "HBoxView",
            "box_style": "",
            "children": [
              "IPY_MODEL_b517f9f0dc52411783bec86394d2b5c3",
              "IPY_MODEL_5a8da79bae814b9ba1fe730340815b9e",
              "IPY_MODEL_a73acabd02f4436f8e6e1c2b3fdf8a8f"
            ],
            "layout": "IPY_MODEL_d8c096df30f248e8ae4dadaf68bd9a9c"
          }
        },
        "b517f9f0dc52411783bec86394d2b5c3": {
          "model_module": "@jupyter-widgets/controls",
          "model_name": "HTMLModel",
          "model_module_version": "1.5.0",
          "state": {
            "_dom_classes": [],
            "_model_module": "@jupyter-widgets/controls",
            "_model_module_version": "1.5.0",
            "_model_name": "HTMLModel",
            "_view_count": null,
            "_view_module": "@jupyter-widgets/controls",
            "_view_module_version": "1.5.0",
            "_view_name": "HTMLView",
            "description": "",
            "description_tooltip": null,
            "layout": "IPY_MODEL_20e4f89dd05d4e1795083c0b4a033505",
            "placeholder": "​",
            "style": "IPY_MODEL_41873a799c284cb9ba056ab4e428df71",
            "value": "Downloading: 100%"
          }
        },
        "5a8da79bae814b9ba1fe730340815b9e": {
          "model_module": "@jupyter-widgets/controls",
          "model_name": "FloatProgressModel",
          "model_module_version": "1.5.0",
          "state": {
            "_dom_classes": [],
            "_model_module": "@jupyter-widgets/controls",
            "_model_module_version": "1.5.0",
            "_model_name": "FloatProgressModel",
            "_view_count": null,
            "_view_module": "@jupyter-widgets/controls",
            "_view_module_version": "1.5.0",
            "_view_name": "ProgressView",
            "bar_style": "success",
            "description": "",
            "description_tooltip": null,
            "layout": "IPY_MODEL_e0dc662a706442e887b68bb0b65bce3f",
            "max": 28,
            "min": 0,
            "orientation": "horizontal",
            "style": "IPY_MODEL_b265ea7169a244c284b736689e60b516",
            "value": 28
          }
        },
        "a73acabd02f4436f8e6e1c2b3fdf8a8f": {
          "model_module": "@jupyter-widgets/controls",
          "model_name": "HTMLModel",
          "model_module_version": "1.5.0",
          "state": {
            "_dom_classes": [],
            "_model_module": "@jupyter-widgets/controls",
            "_model_module_version": "1.5.0",
            "_model_name": "HTMLModel",
            "_view_count": null,
            "_view_module": "@jupyter-widgets/controls",
            "_view_module_version": "1.5.0",
            "_view_name": "HTMLView",
            "description": "",
            "description_tooltip": null,
            "layout": "IPY_MODEL_60bfa27f8ef847d788a695b295cc8d2d",
            "placeholder": "​",
            "style": "IPY_MODEL_8e6e35915acf48b7b301ef6bac10e4c7",
            "value": " 28.0/28.0 [00:00&lt;00:00, 1.67kB/s]"
          }
        },
        "d8c096df30f248e8ae4dadaf68bd9a9c": {
          "model_module": "@jupyter-widgets/base",
          "model_name": "LayoutModel",
          "model_module_version": "1.2.0",
          "state": {
            "_model_module": "@jupyter-widgets/base",
            "_model_module_version": "1.2.0",
            "_model_name": "LayoutModel",
            "_view_count": null,
            "_view_module": "@jupyter-widgets/base",
            "_view_module_version": "1.2.0",
            "_view_name": "LayoutView",
            "align_content": null,
            "align_items": null,
            "align_self": null,
            "border": null,
            "bottom": null,
            "display": null,
            "flex": null,
            "flex_flow": null,
            "grid_area": null,
            "grid_auto_columns": null,
            "grid_auto_flow": null,
            "grid_auto_rows": null,
            "grid_column": null,
            "grid_gap": null,
            "grid_row": null,
            "grid_template_areas": null,
            "grid_template_columns": null,
            "grid_template_rows": null,
            "height": null,
            "justify_content": null,
            "justify_items": null,
            "left": null,
            "margin": null,
            "max_height": null,
            "max_width": null,
            "min_height": null,
            "min_width": null,
            "object_fit": null,
            "object_position": null,
            "order": null,
            "overflow": null,
            "overflow_x": null,
            "overflow_y": null,
            "padding": null,
            "right": null,
            "top": null,
            "visibility": null,
            "width": null
          }
        },
        "20e4f89dd05d4e1795083c0b4a033505": {
          "model_module": "@jupyter-widgets/base",
          "model_name": "LayoutModel",
          "model_module_version": "1.2.0",
          "state": {
            "_model_module": "@jupyter-widgets/base",
            "_model_module_version": "1.2.0",
            "_model_name": "LayoutModel",
            "_view_count": null,
            "_view_module": "@jupyter-widgets/base",
            "_view_module_version": "1.2.0",
            "_view_name": "LayoutView",
            "align_content": null,
            "align_items": null,
            "align_self": null,
            "border": null,
            "bottom": null,
            "display": null,
            "flex": null,
            "flex_flow": null,
            "grid_area": null,
            "grid_auto_columns": null,
            "grid_auto_flow": null,
            "grid_auto_rows": null,
            "grid_column": null,
            "grid_gap": null,
            "grid_row": null,
            "grid_template_areas": null,
            "grid_template_columns": null,
            "grid_template_rows": null,
            "height": null,
            "justify_content": null,
            "justify_items": null,
            "left": null,
            "margin": null,
            "max_height": null,
            "max_width": null,
            "min_height": null,
            "min_width": null,
            "object_fit": null,
            "object_position": null,
            "order": null,
            "overflow": null,
            "overflow_x": null,
            "overflow_y": null,
            "padding": null,
            "right": null,
            "top": null,
            "visibility": null,
            "width": null
          }
        },
        "41873a799c284cb9ba056ab4e428df71": {
          "model_module": "@jupyter-widgets/controls",
          "model_name": "DescriptionStyleModel",
          "model_module_version": "1.5.0",
          "state": {
            "_model_module": "@jupyter-widgets/controls",
            "_model_module_version": "1.5.0",
            "_model_name": "DescriptionStyleModel",
            "_view_count": null,
            "_view_module": "@jupyter-widgets/base",
            "_view_module_version": "1.2.0",
            "_view_name": "StyleView",
            "description_width": ""
          }
        },
        "e0dc662a706442e887b68bb0b65bce3f": {
          "model_module": "@jupyter-widgets/base",
          "model_name": "LayoutModel",
          "model_module_version": "1.2.0",
          "state": {
            "_model_module": "@jupyter-widgets/base",
            "_model_module_version": "1.2.0",
            "_model_name": "LayoutModel",
            "_view_count": null,
            "_view_module": "@jupyter-widgets/base",
            "_view_module_version": "1.2.0",
            "_view_name": "LayoutView",
            "align_content": null,
            "align_items": null,
            "align_self": null,
            "border": null,
            "bottom": null,
            "display": null,
            "flex": null,
            "flex_flow": null,
            "grid_area": null,
            "grid_auto_columns": null,
            "grid_auto_flow": null,
            "grid_auto_rows": null,
            "grid_column": null,
            "grid_gap": null,
            "grid_row": null,
            "grid_template_areas": null,
            "grid_template_columns": null,
            "grid_template_rows": null,
            "height": null,
            "justify_content": null,
            "justify_items": null,
            "left": null,
            "margin": null,
            "max_height": null,
            "max_width": null,
            "min_height": null,
            "min_width": null,
            "object_fit": null,
            "object_position": null,
            "order": null,
            "overflow": null,
            "overflow_x": null,
            "overflow_y": null,
            "padding": null,
            "right": null,
            "top": null,
            "visibility": null,
            "width": null
          }
        },
        "b265ea7169a244c284b736689e60b516": {
          "model_module": "@jupyter-widgets/controls",
          "model_name": "ProgressStyleModel",
          "model_module_version": "1.5.0",
          "state": {
            "_model_module": "@jupyter-widgets/controls",
            "_model_module_version": "1.5.0",
            "_model_name": "ProgressStyleModel",
            "_view_count": null,
            "_view_module": "@jupyter-widgets/base",
            "_view_module_version": "1.2.0",
            "_view_name": "StyleView",
            "bar_color": null,
            "description_width": ""
          }
        },
        "60bfa27f8ef847d788a695b295cc8d2d": {
          "model_module": "@jupyter-widgets/base",
          "model_name": "LayoutModel",
          "model_module_version": "1.2.0",
          "state": {
            "_model_module": "@jupyter-widgets/base",
            "_model_module_version": "1.2.0",
            "_model_name": "LayoutModel",
            "_view_count": null,
            "_view_module": "@jupyter-widgets/base",
            "_view_module_version": "1.2.0",
            "_view_name": "LayoutView",
            "align_content": null,
            "align_items": null,
            "align_self": null,
            "border": null,
            "bottom": null,
            "display": null,
            "flex": null,
            "flex_flow": null,
            "grid_area": null,
            "grid_auto_columns": null,
            "grid_auto_flow": null,
            "grid_auto_rows": null,
            "grid_column": null,
            "grid_gap": null,
            "grid_row": null,
            "grid_template_areas": null,
            "grid_template_columns": null,
            "grid_template_rows": null,
            "height": null,
            "justify_content": null,
            "justify_items": null,
            "left": null,
            "margin": null,
            "max_height": null,
            "max_width": null,
            "min_height": null,
            "min_width": null,
            "object_fit": null,
            "object_position": null,
            "order": null,
            "overflow": null,
            "overflow_x": null,
            "overflow_y": null,
            "padding": null,
            "right": null,
            "top": null,
            "visibility": null,
            "width": null
          }
        },
        "8e6e35915acf48b7b301ef6bac10e4c7": {
          "model_module": "@jupyter-widgets/controls",
          "model_name": "DescriptionStyleModel",
          "model_module_version": "1.5.0",
          "state": {
            "_model_module": "@jupyter-widgets/controls",
            "_model_module_version": "1.5.0",
            "_model_name": "DescriptionStyleModel",
            "_view_count": null,
            "_view_module": "@jupyter-widgets/base",
            "_view_module_version": "1.2.0",
            "_view_name": "StyleView",
            "description_width": ""
          }
        },
        "22d09ec203b74e4ab4e56cc84024628a": {
          "model_module": "@jupyter-widgets/controls",
          "model_name": "HBoxModel",
          "model_module_version": "1.5.0",
          "state": {
            "_dom_classes": [],
            "_model_module": "@jupyter-widgets/controls",
            "_model_module_version": "1.5.0",
            "_model_name": "HBoxModel",
            "_view_count": null,
            "_view_module": "@jupyter-widgets/controls",
            "_view_module_version": "1.5.0",
            "_view_name": "HBoxView",
            "box_style": "",
            "children": [
              "IPY_MODEL_ac8c38d9f4b04617aaac5b713cab4b5f",
              "IPY_MODEL_fdd5486d6b074ecd8b244061c75da224",
              "IPY_MODEL_24d150c85c5a456f9a00101c3b2cb080"
            ],
            "layout": "IPY_MODEL_1286766e93eb44e8a697ede8f8a3be05"
          }
        },
        "ac8c38d9f4b04617aaac5b713cab4b5f": {
          "model_module": "@jupyter-widgets/controls",
          "model_name": "HTMLModel",
          "model_module_version": "1.5.0",
          "state": {
            "_dom_classes": [],
            "_model_module": "@jupyter-widgets/controls",
            "_model_module_version": "1.5.0",
            "_model_name": "HTMLModel",
            "_view_count": null,
            "_view_module": "@jupyter-widgets/controls",
            "_view_module_version": "1.5.0",
            "_view_name": "HTMLView",
            "description": "",
            "description_tooltip": null,
            "layout": "IPY_MODEL_e9f0397435f54a4bb0d9076bf79e85f8",
            "placeholder": "​",
            "style": "IPY_MODEL_67a19d509961493f9a7624ee4529ccc5",
            "value": "Downloading: 100%"
          }
        },
        "fdd5486d6b074ecd8b244061c75da224": {
          "model_module": "@jupyter-widgets/controls",
          "model_name": "FloatProgressModel",
          "model_module_version": "1.5.0",
          "state": {
            "_dom_classes": [],
            "_model_module": "@jupyter-widgets/controls",
            "_model_module_version": "1.5.0",
            "_model_name": "FloatProgressModel",
            "_view_count": null,
            "_view_module": "@jupyter-widgets/controls",
            "_view_module_version": "1.5.0",
            "_view_name": "ProgressView",
            "bar_style": "success",
            "description": "",
            "description_tooltip": null,
            "layout": "IPY_MODEL_a5c5a7319dbf4f42ac1f4261b872ecf6",
            "max": 231508,
            "min": 0,
            "orientation": "horizontal",
            "style": "IPY_MODEL_692b107c9a7044fbb3b8ed7f772e0f52",
            "value": 231508
          }
        },
        "24d150c85c5a456f9a00101c3b2cb080": {
          "model_module": "@jupyter-widgets/controls",
          "model_name": "HTMLModel",
          "model_module_version": "1.5.0",
          "state": {
            "_dom_classes": [],
            "_model_module": "@jupyter-widgets/controls",
            "_model_module_version": "1.5.0",
            "_model_name": "HTMLModel",
            "_view_count": null,
            "_view_module": "@jupyter-widgets/controls",
            "_view_module_version": "1.5.0",
            "_view_name": "HTMLView",
            "description": "",
            "description_tooltip": null,
            "layout": "IPY_MODEL_da9ca369f6ef4540825dddd2b44bc9e7",
            "placeholder": "​",
            "style": "IPY_MODEL_4d78ce8146874b15b44a22ca72551645",
            "value": " 226k/226k [00:00&lt;00:00, 340kB/s]"
          }
        },
        "1286766e93eb44e8a697ede8f8a3be05": {
          "model_module": "@jupyter-widgets/base",
          "model_name": "LayoutModel",
          "model_module_version": "1.2.0",
          "state": {
            "_model_module": "@jupyter-widgets/base",
            "_model_module_version": "1.2.0",
            "_model_name": "LayoutModel",
            "_view_count": null,
            "_view_module": "@jupyter-widgets/base",
            "_view_module_version": "1.2.0",
            "_view_name": "LayoutView",
            "align_content": null,
            "align_items": null,
            "align_self": null,
            "border": null,
            "bottom": null,
            "display": null,
            "flex": null,
            "flex_flow": null,
            "grid_area": null,
            "grid_auto_columns": null,
            "grid_auto_flow": null,
            "grid_auto_rows": null,
            "grid_column": null,
            "grid_gap": null,
            "grid_row": null,
            "grid_template_areas": null,
            "grid_template_columns": null,
            "grid_template_rows": null,
            "height": null,
            "justify_content": null,
            "justify_items": null,
            "left": null,
            "margin": null,
            "max_height": null,
            "max_width": null,
            "min_height": null,
            "min_width": null,
            "object_fit": null,
            "object_position": null,
            "order": null,
            "overflow": null,
            "overflow_x": null,
            "overflow_y": null,
            "padding": null,
            "right": null,
            "top": null,
            "visibility": null,
            "width": null
          }
        },
        "e9f0397435f54a4bb0d9076bf79e85f8": {
          "model_module": "@jupyter-widgets/base",
          "model_name": "LayoutModel",
          "model_module_version": "1.2.0",
          "state": {
            "_model_module": "@jupyter-widgets/base",
            "_model_module_version": "1.2.0",
            "_model_name": "LayoutModel",
            "_view_count": null,
            "_view_module": "@jupyter-widgets/base",
            "_view_module_version": "1.2.0",
            "_view_name": "LayoutView",
            "align_content": null,
            "align_items": null,
            "align_self": null,
            "border": null,
            "bottom": null,
            "display": null,
            "flex": null,
            "flex_flow": null,
            "grid_area": null,
            "grid_auto_columns": null,
            "grid_auto_flow": null,
            "grid_auto_rows": null,
            "grid_column": null,
            "grid_gap": null,
            "grid_row": null,
            "grid_template_areas": null,
            "grid_template_columns": null,
            "grid_template_rows": null,
            "height": null,
            "justify_content": null,
            "justify_items": null,
            "left": null,
            "margin": null,
            "max_height": null,
            "max_width": null,
            "min_height": null,
            "min_width": null,
            "object_fit": null,
            "object_position": null,
            "order": null,
            "overflow": null,
            "overflow_x": null,
            "overflow_y": null,
            "padding": null,
            "right": null,
            "top": null,
            "visibility": null,
            "width": null
          }
        },
        "67a19d509961493f9a7624ee4529ccc5": {
          "model_module": "@jupyter-widgets/controls",
          "model_name": "DescriptionStyleModel",
          "model_module_version": "1.5.0",
          "state": {
            "_model_module": "@jupyter-widgets/controls",
            "_model_module_version": "1.5.0",
            "_model_name": "DescriptionStyleModel",
            "_view_count": null,
            "_view_module": "@jupyter-widgets/base",
            "_view_module_version": "1.2.0",
            "_view_name": "StyleView",
            "description_width": ""
          }
        },
        "a5c5a7319dbf4f42ac1f4261b872ecf6": {
          "model_module": "@jupyter-widgets/base",
          "model_name": "LayoutModel",
          "model_module_version": "1.2.0",
          "state": {
            "_model_module": "@jupyter-widgets/base",
            "_model_module_version": "1.2.0",
            "_model_name": "LayoutModel",
            "_view_count": null,
            "_view_module": "@jupyter-widgets/base",
            "_view_module_version": "1.2.0",
            "_view_name": "LayoutView",
            "align_content": null,
            "align_items": null,
            "align_self": null,
            "border": null,
            "bottom": null,
            "display": null,
            "flex": null,
            "flex_flow": null,
            "grid_area": null,
            "grid_auto_columns": null,
            "grid_auto_flow": null,
            "grid_auto_rows": null,
            "grid_column": null,
            "grid_gap": null,
            "grid_row": null,
            "grid_template_areas": null,
            "grid_template_columns": null,
            "grid_template_rows": null,
            "height": null,
            "justify_content": null,
            "justify_items": null,
            "left": null,
            "margin": null,
            "max_height": null,
            "max_width": null,
            "min_height": null,
            "min_width": null,
            "object_fit": null,
            "object_position": null,
            "order": null,
            "overflow": null,
            "overflow_x": null,
            "overflow_y": null,
            "padding": null,
            "right": null,
            "top": null,
            "visibility": null,
            "width": null
          }
        },
        "692b107c9a7044fbb3b8ed7f772e0f52": {
          "model_module": "@jupyter-widgets/controls",
          "model_name": "ProgressStyleModel",
          "model_module_version": "1.5.0",
          "state": {
            "_model_module": "@jupyter-widgets/controls",
            "_model_module_version": "1.5.0",
            "_model_name": "ProgressStyleModel",
            "_view_count": null,
            "_view_module": "@jupyter-widgets/base",
            "_view_module_version": "1.2.0",
            "_view_name": "StyleView",
            "bar_color": null,
            "description_width": ""
          }
        },
        "da9ca369f6ef4540825dddd2b44bc9e7": {
          "model_module": "@jupyter-widgets/base",
          "model_name": "LayoutModel",
          "model_module_version": "1.2.0",
          "state": {
            "_model_module": "@jupyter-widgets/base",
            "_model_module_version": "1.2.0",
            "_model_name": "LayoutModel",
            "_view_count": null,
            "_view_module": "@jupyter-widgets/base",
            "_view_module_version": "1.2.0",
            "_view_name": "LayoutView",
            "align_content": null,
            "align_items": null,
            "align_self": null,
            "border": null,
            "bottom": null,
            "display": null,
            "flex": null,
            "flex_flow": null,
            "grid_area": null,
            "grid_auto_columns": null,
            "grid_auto_flow": null,
            "grid_auto_rows": null,
            "grid_column": null,
            "grid_gap": null,
            "grid_row": null,
            "grid_template_areas": null,
            "grid_template_columns": null,
            "grid_template_rows": null,
            "height": null,
            "justify_content": null,
            "justify_items": null,
            "left": null,
            "margin": null,
            "max_height": null,
            "max_width": null,
            "min_height": null,
            "min_width": null,
            "object_fit": null,
            "object_position": null,
            "order": null,
            "overflow": null,
            "overflow_x": null,
            "overflow_y": null,
            "padding": null,
            "right": null,
            "top": null,
            "visibility": null,
            "width": null
          }
        },
        "4d78ce8146874b15b44a22ca72551645": {
          "model_module": "@jupyter-widgets/controls",
          "model_name": "DescriptionStyleModel",
          "model_module_version": "1.5.0",
          "state": {
            "_model_module": "@jupyter-widgets/controls",
            "_model_module_version": "1.5.0",
            "_model_name": "DescriptionStyleModel",
            "_view_count": null,
            "_view_module": "@jupyter-widgets/base",
            "_view_module_version": "1.2.0",
            "_view_name": "StyleView",
            "description_width": ""
          }
        },
        "20182c8a3452418aa6871ad1cd14726e": {
          "model_module": "@jupyter-widgets/controls",
          "model_name": "HBoxModel",
          "model_module_version": "1.5.0",
          "state": {
            "_dom_classes": [],
            "_model_module": "@jupyter-widgets/controls",
            "_model_module_version": "1.5.0",
            "_model_name": "HBoxModel",
            "_view_count": null,
            "_view_module": "@jupyter-widgets/controls",
            "_view_module_version": "1.5.0",
            "_view_name": "HBoxView",
            "box_style": "",
            "children": [
              "IPY_MODEL_c1c71fbabd724f0b9c9c280bcddfee16",
              "IPY_MODEL_c3051f7cae974cb0aad76eef70bb74b6",
              "IPY_MODEL_478d6d0fdfe94e85a92f7146c37ebeb6"
            ],
            "layout": "IPY_MODEL_fa347b01d4384376bbfe6d7534c44be9"
          }
        },
        "c1c71fbabd724f0b9c9c280bcddfee16": {
          "model_module": "@jupyter-widgets/controls",
          "model_name": "HTMLModel",
          "model_module_version": "1.5.0",
          "state": {
            "_dom_classes": [],
            "_model_module": "@jupyter-widgets/controls",
            "_model_module_version": "1.5.0",
            "_model_name": "HTMLModel",
            "_view_count": null,
            "_view_module": "@jupyter-widgets/controls",
            "_view_module_version": "1.5.0",
            "_view_name": "HTMLView",
            "description": "",
            "description_tooltip": null,
            "layout": "IPY_MODEL_18db130f2394445dbd93440c59e19a2e",
            "placeholder": "​",
            "style": "IPY_MODEL_c9047b267cd64aeca8b275cb8bdabb3a",
            "value": "Downloading: 100%"
          }
        },
        "c3051f7cae974cb0aad76eef70bb74b6": {
          "model_module": "@jupyter-widgets/controls",
          "model_name": "FloatProgressModel",
          "model_module_version": "1.5.0",
          "state": {
            "_dom_classes": [],
            "_model_module": "@jupyter-widgets/controls",
            "_model_module_version": "1.5.0",
            "_model_name": "FloatProgressModel",
            "_view_count": null,
            "_view_module": "@jupyter-widgets/controls",
            "_view_module_version": "1.5.0",
            "_view_name": "ProgressView",
            "bar_style": "success",
            "description": "",
            "description_tooltip": null,
            "layout": "IPY_MODEL_1ac2277369d64ec894bf9826079c12ec",
            "max": 466062,
            "min": 0,
            "orientation": "horizontal",
            "style": "IPY_MODEL_698173b63f3f4c38af04ef550f4bef27",
            "value": 466062
          }
        },
        "478d6d0fdfe94e85a92f7146c37ebeb6": {
          "model_module": "@jupyter-widgets/controls",
          "model_name": "HTMLModel",
          "model_module_version": "1.5.0",
          "state": {
            "_dom_classes": [],
            "_model_module": "@jupyter-widgets/controls",
            "_model_module_version": "1.5.0",
            "_model_name": "HTMLModel",
            "_view_count": null,
            "_view_module": "@jupyter-widgets/controls",
            "_view_module_version": "1.5.0",
            "_view_name": "HTMLView",
            "description": "",
            "description_tooltip": null,
            "layout": "IPY_MODEL_56d37b99df3e4cae95acafd41a6f0c13",
            "placeholder": "​",
            "style": "IPY_MODEL_7f77000f4d0e447ea4c0e18550150824",
            "value": " 455k/455k [00:00&lt;00:00, 448kB/s]"
          }
        },
        "fa347b01d4384376bbfe6d7534c44be9": {
          "model_module": "@jupyter-widgets/base",
          "model_name": "LayoutModel",
          "model_module_version": "1.2.0",
          "state": {
            "_model_module": "@jupyter-widgets/base",
            "_model_module_version": "1.2.0",
            "_model_name": "LayoutModel",
            "_view_count": null,
            "_view_module": "@jupyter-widgets/base",
            "_view_module_version": "1.2.0",
            "_view_name": "LayoutView",
            "align_content": null,
            "align_items": null,
            "align_self": null,
            "border": null,
            "bottom": null,
            "display": null,
            "flex": null,
            "flex_flow": null,
            "grid_area": null,
            "grid_auto_columns": null,
            "grid_auto_flow": null,
            "grid_auto_rows": null,
            "grid_column": null,
            "grid_gap": null,
            "grid_row": null,
            "grid_template_areas": null,
            "grid_template_columns": null,
            "grid_template_rows": null,
            "height": null,
            "justify_content": null,
            "justify_items": null,
            "left": null,
            "margin": null,
            "max_height": null,
            "max_width": null,
            "min_height": null,
            "min_width": null,
            "object_fit": null,
            "object_position": null,
            "order": null,
            "overflow": null,
            "overflow_x": null,
            "overflow_y": null,
            "padding": null,
            "right": null,
            "top": null,
            "visibility": null,
            "width": null
          }
        },
        "18db130f2394445dbd93440c59e19a2e": {
          "model_module": "@jupyter-widgets/base",
          "model_name": "LayoutModel",
          "model_module_version": "1.2.0",
          "state": {
            "_model_module": "@jupyter-widgets/base",
            "_model_module_version": "1.2.0",
            "_model_name": "LayoutModel",
            "_view_count": null,
            "_view_module": "@jupyter-widgets/base",
            "_view_module_version": "1.2.0",
            "_view_name": "LayoutView",
            "align_content": null,
            "align_items": null,
            "align_self": null,
            "border": null,
            "bottom": null,
            "display": null,
            "flex": null,
            "flex_flow": null,
            "grid_area": null,
            "grid_auto_columns": null,
            "grid_auto_flow": null,
            "grid_auto_rows": null,
            "grid_column": null,
            "grid_gap": null,
            "grid_row": null,
            "grid_template_areas": null,
            "grid_template_columns": null,
            "grid_template_rows": null,
            "height": null,
            "justify_content": null,
            "justify_items": null,
            "left": null,
            "margin": null,
            "max_height": null,
            "max_width": null,
            "min_height": null,
            "min_width": null,
            "object_fit": null,
            "object_position": null,
            "order": null,
            "overflow": null,
            "overflow_x": null,
            "overflow_y": null,
            "padding": null,
            "right": null,
            "top": null,
            "visibility": null,
            "width": null
          }
        },
        "c9047b267cd64aeca8b275cb8bdabb3a": {
          "model_module": "@jupyter-widgets/controls",
          "model_name": "DescriptionStyleModel",
          "model_module_version": "1.5.0",
          "state": {
            "_model_module": "@jupyter-widgets/controls",
            "_model_module_version": "1.5.0",
            "_model_name": "DescriptionStyleModel",
            "_view_count": null,
            "_view_module": "@jupyter-widgets/base",
            "_view_module_version": "1.2.0",
            "_view_name": "StyleView",
            "description_width": ""
          }
        },
        "1ac2277369d64ec894bf9826079c12ec": {
          "model_module": "@jupyter-widgets/base",
          "model_name": "LayoutModel",
          "model_module_version": "1.2.0",
          "state": {
            "_model_module": "@jupyter-widgets/base",
            "_model_module_version": "1.2.0",
            "_model_name": "LayoutModel",
            "_view_count": null,
            "_view_module": "@jupyter-widgets/base",
            "_view_module_version": "1.2.0",
            "_view_name": "LayoutView",
            "align_content": null,
            "align_items": null,
            "align_self": null,
            "border": null,
            "bottom": null,
            "display": null,
            "flex": null,
            "flex_flow": null,
            "grid_area": null,
            "grid_auto_columns": null,
            "grid_auto_flow": null,
            "grid_auto_rows": null,
            "grid_column": null,
            "grid_gap": null,
            "grid_row": null,
            "grid_template_areas": null,
            "grid_template_columns": null,
            "grid_template_rows": null,
            "height": null,
            "justify_content": null,
            "justify_items": null,
            "left": null,
            "margin": null,
            "max_height": null,
            "max_width": null,
            "min_height": null,
            "min_width": null,
            "object_fit": null,
            "object_position": null,
            "order": null,
            "overflow": null,
            "overflow_x": null,
            "overflow_y": null,
            "padding": null,
            "right": null,
            "top": null,
            "visibility": null,
            "width": null
          }
        },
        "698173b63f3f4c38af04ef550f4bef27": {
          "model_module": "@jupyter-widgets/controls",
          "model_name": "ProgressStyleModel",
          "model_module_version": "1.5.0",
          "state": {
            "_model_module": "@jupyter-widgets/controls",
            "_model_module_version": "1.5.0",
            "_model_name": "ProgressStyleModel",
            "_view_count": null,
            "_view_module": "@jupyter-widgets/base",
            "_view_module_version": "1.2.0",
            "_view_name": "StyleView",
            "bar_color": null,
            "description_width": ""
          }
        },
        "56d37b99df3e4cae95acafd41a6f0c13": {
          "model_module": "@jupyter-widgets/base",
          "model_name": "LayoutModel",
          "model_module_version": "1.2.0",
          "state": {
            "_model_module": "@jupyter-widgets/base",
            "_model_module_version": "1.2.0",
            "_model_name": "LayoutModel",
            "_view_count": null,
            "_view_module": "@jupyter-widgets/base",
            "_view_module_version": "1.2.0",
            "_view_name": "LayoutView",
            "align_content": null,
            "align_items": null,
            "align_self": null,
            "border": null,
            "bottom": null,
            "display": null,
            "flex": null,
            "flex_flow": null,
            "grid_area": null,
            "grid_auto_columns": null,
            "grid_auto_flow": null,
            "grid_auto_rows": null,
            "grid_column": null,
            "grid_gap": null,
            "grid_row": null,
            "grid_template_areas": null,
            "grid_template_columns": null,
            "grid_template_rows": null,
            "height": null,
            "justify_content": null,
            "justify_items": null,
            "left": null,
            "margin": null,
            "max_height": null,
            "max_width": null,
            "min_height": null,
            "min_width": null,
            "object_fit": null,
            "object_position": null,
            "order": null,
            "overflow": null,
            "overflow_x": null,
            "overflow_y": null,
            "padding": null,
            "right": null,
            "top": null,
            "visibility": null,
            "width": null
          }
        },
        "7f77000f4d0e447ea4c0e18550150824": {
          "model_module": "@jupyter-widgets/controls",
          "model_name": "DescriptionStyleModel",
          "model_module_version": "1.5.0",
          "state": {
            "_model_module": "@jupyter-widgets/controls",
            "_model_module_version": "1.5.0",
            "_model_name": "DescriptionStyleModel",
            "_view_count": null,
            "_view_module": "@jupyter-widgets/base",
            "_view_module_version": "1.2.0",
            "_view_name": "StyleView",
            "description_width": ""
          }
        },
        "410c82423275454db30d431efb9097d0": {
          "model_module": "@jupyter-widgets/controls",
          "model_name": "HBoxModel",
          "model_module_version": "1.5.0",
          "state": {
            "_dom_classes": [],
            "_model_module": "@jupyter-widgets/controls",
            "_model_module_version": "1.5.0",
            "_model_name": "HBoxModel",
            "_view_count": null,
            "_view_module": "@jupyter-widgets/controls",
            "_view_module_version": "1.5.0",
            "_view_name": "HBoxView",
            "box_style": "",
            "children": [
              "IPY_MODEL_1a0de468e24f46d7be294f1fd7ea92c3",
              "IPY_MODEL_5ea70ab6f9b1435a833aa385814389d6",
              "IPY_MODEL_935ee77cf90348279170c79b1638c183"
            ],
            "layout": "IPY_MODEL_d99547e362c74291b8d497883e7774b6"
          }
        },
        "1a0de468e24f46d7be294f1fd7ea92c3": {
          "model_module": "@jupyter-widgets/controls",
          "model_name": "HTMLModel",
          "model_module_version": "1.5.0",
          "state": {
            "_dom_classes": [],
            "_model_module": "@jupyter-widgets/controls",
            "_model_module_version": "1.5.0",
            "_model_name": "HTMLModel",
            "_view_count": null,
            "_view_module": "@jupyter-widgets/controls",
            "_view_module_version": "1.5.0",
            "_view_name": "HTMLView",
            "description": "",
            "description_tooltip": null,
            "layout": "IPY_MODEL_9443ffe8cce64f0c9bf7af4f930b189b",
            "placeholder": "​",
            "style": "IPY_MODEL_0ef040e040164dcaabb9660664de3ce4",
            "value": "Downloading: 100%"
          }
        },
        "5ea70ab6f9b1435a833aa385814389d6": {
          "model_module": "@jupyter-widgets/controls",
          "model_name": "FloatProgressModel",
          "model_module_version": "1.5.0",
          "state": {
            "_dom_classes": [],
            "_model_module": "@jupyter-widgets/controls",
            "_model_module_version": "1.5.0",
            "_model_name": "FloatProgressModel",
            "_view_count": null,
            "_view_module": "@jupyter-widgets/controls",
            "_view_module_version": "1.5.0",
            "_view_name": "ProgressView",
            "bar_style": "success",
            "description": "",
            "description_tooltip": null,
            "layout": "IPY_MODEL_60d4f9b5230c4662bda442b371bf5d08",
            "max": 570,
            "min": 0,
            "orientation": "horizontal",
            "style": "IPY_MODEL_38ba12bbbdfd4b79b5b23689862507ba",
            "value": 570
          }
        },
        "935ee77cf90348279170c79b1638c183": {
          "model_module": "@jupyter-widgets/controls",
          "model_name": "HTMLModel",
          "model_module_version": "1.5.0",
          "state": {
            "_dom_classes": [],
            "_model_module": "@jupyter-widgets/controls",
            "_model_module_version": "1.5.0",
            "_model_name": "HTMLModel",
            "_view_count": null,
            "_view_module": "@jupyter-widgets/controls",
            "_view_module_version": "1.5.0",
            "_view_name": "HTMLView",
            "description": "",
            "description_tooltip": null,
            "layout": "IPY_MODEL_fe0ed43ca1bc4059befc8b59c79d4419",
            "placeholder": "​",
            "style": "IPY_MODEL_447c88a330304cfeb1aeacc2f479e23c",
            "value": " 570/570 [00:00&lt;00:00, 28.1kB/s]"
          }
        },
        "d99547e362c74291b8d497883e7774b6": {
          "model_module": "@jupyter-widgets/base",
          "model_name": "LayoutModel",
          "model_module_version": "1.2.0",
          "state": {
            "_model_module": "@jupyter-widgets/base",
            "_model_module_version": "1.2.0",
            "_model_name": "LayoutModel",
            "_view_count": null,
            "_view_module": "@jupyter-widgets/base",
            "_view_module_version": "1.2.0",
            "_view_name": "LayoutView",
            "align_content": null,
            "align_items": null,
            "align_self": null,
            "border": null,
            "bottom": null,
            "display": null,
            "flex": null,
            "flex_flow": null,
            "grid_area": null,
            "grid_auto_columns": null,
            "grid_auto_flow": null,
            "grid_auto_rows": null,
            "grid_column": null,
            "grid_gap": null,
            "grid_row": null,
            "grid_template_areas": null,
            "grid_template_columns": null,
            "grid_template_rows": null,
            "height": null,
            "justify_content": null,
            "justify_items": null,
            "left": null,
            "margin": null,
            "max_height": null,
            "max_width": null,
            "min_height": null,
            "min_width": null,
            "object_fit": null,
            "object_position": null,
            "order": null,
            "overflow": null,
            "overflow_x": null,
            "overflow_y": null,
            "padding": null,
            "right": null,
            "top": null,
            "visibility": null,
            "width": null
          }
        },
        "9443ffe8cce64f0c9bf7af4f930b189b": {
          "model_module": "@jupyter-widgets/base",
          "model_name": "LayoutModel",
          "model_module_version": "1.2.0",
          "state": {
            "_model_module": "@jupyter-widgets/base",
            "_model_module_version": "1.2.0",
            "_model_name": "LayoutModel",
            "_view_count": null,
            "_view_module": "@jupyter-widgets/base",
            "_view_module_version": "1.2.0",
            "_view_name": "LayoutView",
            "align_content": null,
            "align_items": null,
            "align_self": null,
            "border": null,
            "bottom": null,
            "display": null,
            "flex": null,
            "flex_flow": null,
            "grid_area": null,
            "grid_auto_columns": null,
            "grid_auto_flow": null,
            "grid_auto_rows": null,
            "grid_column": null,
            "grid_gap": null,
            "grid_row": null,
            "grid_template_areas": null,
            "grid_template_columns": null,
            "grid_template_rows": null,
            "height": null,
            "justify_content": null,
            "justify_items": null,
            "left": null,
            "margin": null,
            "max_height": null,
            "max_width": null,
            "min_height": null,
            "min_width": null,
            "object_fit": null,
            "object_position": null,
            "order": null,
            "overflow": null,
            "overflow_x": null,
            "overflow_y": null,
            "padding": null,
            "right": null,
            "top": null,
            "visibility": null,
            "width": null
          }
        },
        "0ef040e040164dcaabb9660664de3ce4": {
          "model_module": "@jupyter-widgets/controls",
          "model_name": "DescriptionStyleModel",
          "model_module_version": "1.5.0",
          "state": {
            "_model_module": "@jupyter-widgets/controls",
            "_model_module_version": "1.5.0",
            "_model_name": "DescriptionStyleModel",
            "_view_count": null,
            "_view_module": "@jupyter-widgets/base",
            "_view_module_version": "1.2.0",
            "_view_name": "StyleView",
            "description_width": ""
          }
        },
        "60d4f9b5230c4662bda442b371bf5d08": {
          "model_module": "@jupyter-widgets/base",
          "model_name": "LayoutModel",
          "model_module_version": "1.2.0",
          "state": {
            "_model_module": "@jupyter-widgets/base",
            "_model_module_version": "1.2.0",
            "_model_name": "LayoutModel",
            "_view_count": null,
            "_view_module": "@jupyter-widgets/base",
            "_view_module_version": "1.2.0",
            "_view_name": "LayoutView",
            "align_content": null,
            "align_items": null,
            "align_self": null,
            "border": null,
            "bottom": null,
            "display": null,
            "flex": null,
            "flex_flow": null,
            "grid_area": null,
            "grid_auto_columns": null,
            "grid_auto_flow": null,
            "grid_auto_rows": null,
            "grid_column": null,
            "grid_gap": null,
            "grid_row": null,
            "grid_template_areas": null,
            "grid_template_columns": null,
            "grid_template_rows": null,
            "height": null,
            "justify_content": null,
            "justify_items": null,
            "left": null,
            "margin": null,
            "max_height": null,
            "max_width": null,
            "min_height": null,
            "min_width": null,
            "object_fit": null,
            "object_position": null,
            "order": null,
            "overflow": null,
            "overflow_x": null,
            "overflow_y": null,
            "padding": null,
            "right": null,
            "top": null,
            "visibility": null,
            "width": null
          }
        },
        "38ba12bbbdfd4b79b5b23689862507ba": {
          "model_module": "@jupyter-widgets/controls",
          "model_name": "ProgressStyleModel",
          "model_module_version": "1.5.0",
          "state": {
            "_model_module": "@jupyter-widgets/controls",
            "_model_module_version": "1.5.0",
            "_model_name": "ProgressStyleModel",
            "_view_count": null,
            "_view_module": "@jupyter-widgets/base",
            "_view_module_version": "1.2.0",
            "_view_name": "StyleView",
            "bar_color": null,
            "description_width": ""
          }
        },
        "fe0ed43ca1bc4059befc8b59c79d4419": {
          "model_module": "@jupyter-widgets/base",
          "model_name": "LayoutModel",
          "model_module_version": "1.2.0",
          "state": {
            "_model_module": "@jupyter-widgets/base",
            "_model_module_version": "1.2.0",
            "_model_name": "LayoutModel",
            "_view_count": null,
            "_view_module": "@jupyter-widgets/base",
            "_view_module_version": "1.2.0",
            "_view_name": "LayoutView",
            "align_content": null,
            "align_items": null,
            "align_self": null,
            "border": null,
            "bottom": null,
            "display": null,
            "flex": null,
            "flex_flow": null,
            "grid_area": null,
            "grid_auto_columns": null,
            "grid_auto_flow": null,
            "grid_auto_rows": null,
            "grid_column": null,
            "grid_gap": null,
            "grid_row": null,
            "grid_template_areas": null,
            "grid_template_columns": null,
            "grid_template_rows": null,
            "height": null,
            "justify_content": null,
            "justify_items": null,
            "left": null,
            "margin": null,
            "max_height": null,
            "max_width": null,
            "min_height": null,
            "min_width": null,
            "object_fit": null,
            "object_position": null,
            "order": null,
            "overflow": null,
            "overflow_x": null,
            "overflow_y": null,
            "padding": null,
            "right": null,
            "top": null,
            "visibility": null,
            "width": null
          }
        },
        "447c88a330304cfeb1aeacc2f479e23c": {
          "model_module": "@jupyter-widgets/controls",
          "model_name": "DescriptionStyleModel",
          "model_module_version": "1.5.0",
          "state": {
            "_model_module": "@jupyter-widgets/controls",
            "_model_module_version": "1.5.0",
            "_model_name": "DescriptionStyleModel",
            "_view_count": null,
            "_view_module": "@jupyter-widgets/base",
            "_view_module_version": "1.2.0",
            "_view_name": "StyleView",
            "description_width": ""
          }
        }
      }
    }
  },
  "nbformat": 4,
  "nbformat_minor": 0
}
