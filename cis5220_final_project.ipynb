{
  "nbformat": 4,
  "nbformat_minor": 0,
  "metadata": {
    "colab": {
      "provenance": [],
      "toc_visible": true,
      "authorship_tag": "ABX9TyMDm5PDnuf7oSWGM240FAtL",
      "include_colab_link": true
    },
    "kernelspec": {
      "name": "python3",
      "display_name": "Python 3"
    },
    "language_info": {
      "name": "python"
    }
  },
  "cells": [
    {
      "cell_type": "markdown",
      "metadata": {
        "id": "view-in-github",
        "colab_type": "text"
      },
      "source": [
        "<a href=\"https://colab.research.google.com/github/YichengShen/cis5220-project/blob/main/cis5220_final_project.ipynb\" target=\"_parent\"><img src=\"https://colab.research.google.com/assets/colab-badge.svg\" alt=\"Open In Colab\"/></a>"
      ]
    },
    {
      "cell_type": "markdown",
      "source": [
        "# Text-to-SQL\n",
        "\n",
        "Team: Query Marksman"
      ],
      "metadata": {
        "id": "2ffOLBkDpqjR"
      }
    },
    {
      "cell_type": "markdown",
      "source": [
        "## Section 1: Setup"
      ],
      "metadata": {
        "id": "KtUZpHLpqAp6"
      }
    },
    {
      "cell_type": "markdown",
      "source": [
        "### Install & imports"
      ],
      "metadata": {
        "id": "D02_sQ2Mu96Y"
      }
    },
    {
      "cell_type": "code",
      "source": [
        "!pip install nltk"
      ],
      "metadata": {
        "colab": {
          "base_uri": "https://localhost:8080/"
        },
        "id": "sVoBWIzhp6wS",
        "outputId": "5d38b8f6-fb65-4bc4-8610-57549b08a9d3"
      },
      "execution_count": 1,
      "outputs": [
        {
          "output_type": "stream",
          "name": "stdout",
          "text": [
            "Looking in indexes: https://pypi.org/simple, https://us-python.pkg.dev/colab-wheels/public/simple/\n",
            "Requirement already satisfied: nltk in /usr/local/lib/python3.9/dist-packages (3.8.1)\n",
            "Requirement already satisfied: tqdm in /usr/local/lib/python3.9/dist-packages (from nltk) (4.65.0)\n",
            "Requirement already satisfied: joblib in /usr/local/lib/python3.9/dist-packages (from nltk) (1.1.1)\n",
            "Requirement already satisfied: click in /usr/local/lib/python3.9/dist-packages (from nltk) (8.1.3)\n",
            "Requirement already satisfied: regex>=2021.8.3 in /usr/local/lib/python3.9/dist-packages (from nltk) (2022.10.31)\n"
          ]
        }
      ]
    },
    {
      "cell_type": "code",
      "source": [
        "import shutil\n",
        "\n",
        "import re\n",
        "import io\n",
        "import json\n",
        "import numpy as np\n",
        "import os\n",
        "from typing import List, Dict, Tuple, Any, Union"
      ],
      "metadata": {
        "id": "rvD19zjaqdYh"
      },
      "execution_count": 2,
      "outputs": []
    },
    {
      "cell_type": "markdown",
      "source": [
        "Mount Drive"
      ],
      "metadata": {
        "id": "xbzCHSKXvEx_"
      }
    },
    {
      "cell_type": "code",
      "execution_count": 3,
      "metadata": {
        "colab": {
          "base_uri": "https://localhost:8080/"
        },
        "id": "WcA3fpvPocVp",
        "outputId": "7bbedd4a-8ae8-489e-c3e9-2ebf7f42cf55"
      },
      "outputs": [
        {
          "output_type": "stream",
          "name": "stdout",
          "text": [
            "Mounted at /content/drive\n"
          ]
        }
      ],
      "source": [
        "from google.colab import drive\n",
        "drive.mount('/content/drive')"
      ]
    },
    {
      "cell_type": "markdown",
      "source": [
        "### Load data into Colab notebook"
      ],
      "metadata": {
        "id": "4Z2L8fiuxiI3"
      }
    },
    {
      "cell_type": "markdown",
      "source": [
        "Before you run the code below, make sure you download the Spider dataset from [here](https://yale-lily.github.io/spider). Then, you upload the zip file of the dataset to your Drive.\n",
        "\n",
        "Copy data from Drive into the current runtime"
      ],
      "metadata": {
        "id": "qy5rScgzvIPW"
      }
    },
    {
      "cell_type": "code",
      "source": [
        "# Create data folder if not exist\n",
        "!mkdir -p data\n",
        "\n",
        "# Change this path to where you store spider.zip in your Drive\n",
        "dataset_zip_path_in_drive = \"/content/drive/MyDrive/CIS5220_final_project/spider.zip\"\n",
        "dataset_zip_path_in_runtime = \"/content/data/spider.zip\"\n",
        "\n",
        "shutil.copy(dataset_zip_path_in_drive, dataset_zip_path_in_runtime)"
      ],
      "metadata": {
        "colab": {
          "base_uri": "https://localhost:8080/",
          "height": 35
        },
        "id": "nNvmyuljvKIc",
        "outputId": "299f0d59-6b56-4c30-c8cc-138e52194cae"
      },
      "execution_count": 4,
      "outputs": [
        {
          "output_type": "execute_result",
          "data": {
            "text/plain": [
              "'/content/data/spider.zip'"
            ],
            "application/vnd.google.colaboratory.intrinsic+json": {
              "type": "string"
            }
          },
          "metadata": {},
          "execution_count": 4
        }
      ]
    },
    {
      "cell_type": "markdown",
      "source": [
        "Unzip"
      ],
      "metadata": {
        "id": "P7Bpo8LGxLXe"
      }
    },
    {
      "cell_type": "code",
      "source": [
        "!unzip -q -o /content/data/spider.zip -d /content/data/"
      ],
      "metadata": {
        "id": "x5tYlTF3xFMK"
      },
      "execution_count": 5,
      "outputs": []
    },
    {
      "cell_type": "markdown",
      "source": [
        "## Section 2: Data Preparation & Cleaning (Milestone 2)"
      ],
      "metadata": {
        "id": "G43PL2X2K-Xb"
      }
    },
    {
      "cell_type": "markdown",
      "source": [
        "### Helper Functions"
      ],
      "metadata": {
        "id": "Ik-NAtpULHrz"
      }
    },
    {
      "cell_type": "code",
      "source": [
        "def process(sql_data: List[Dict], \n",
        "            table_data: List[Dict]) -> Tuple[List[Dict], Dict[str, Dict]]:\n",
        "    output_tab = {}\n",
        "    for i in range(len(table_data)):\n",
        "      table = table_data[i]\n",
        "      temp = {}\n",
        "      temp['col_map'] = table['column_names']\n",
        "\n",
        "      db_name = table['db_id']\n",
        "      output_tab[db_name] = temp\n",
        "\n",
        "\n",
        "    output_sql = []\n",
        "    for i in range(len(sql_data)):\n",
        "      sql = sql_data[i]\n",
        "      temp = {}\n",
        "\n",
        "      # add query metadata\n",
        "      temp['question'] = sql['question']\n",
        "      temp['question_tok'] = sql['question_toks']\n",
        "      temp['query'] = sql['query']\n",
        "      temp['query_tok'] = sql['query_toks']\n",
        "      temp['table_id'] = sql['db_id']\n",
        "      sql_temp = {}\n",
        "\n",
        "      # process agg/sel\n",
        "      sql_temp['agg'] = []\n",
        "      sql_temp['sel'] = []\n",
        "      gt_sel = sql['sql']['select'][1]\n",
        "      for tup in gt_sel:\n",
        "        sql_temp['agg'].append(tup[0])\n",
        "        sql_temp['sel'].append(tup[1][1][1])\n",
        "      \n",
        "      # process where conditions and conjuctions\n",
        "      sql_temp['cond'] = []\n",
        "      gt_cond = sql['sql']['where']\n",
        "      if len(gt_cond) > 0:\n",
        "        conds = [gt_cond[x] for x in range(len(gt_cond)) if x % 2 == 0]\n",
        "        for cond in conds:\n",
        "          curr_cond = []\n",
        "          curr_cond.append(cond[2][1][1])\n",
        "          curr_cond.append(cond[1])\n",
        "          if cond[4] is not None:\n",
        "            curr_cond.append([cond[3], cond[4]])\n",
        "          else:\n",
        "            curr_cond.append(cond[3])\n",
        "          sql_temp['cond'].append(curr_cond)\n",
        "\n",
        "      sql_temp['conj'] = [gt_cond[x] for x in range(len(gt_cond)) if x % 2 == 1]\n",
        "\n",
        "      # process group by / having\n",
        "      sql_temp['group'] = [x[1] for x in sql['sql']['groupBy']]\n",
        "      having_cond = []\n",
        "      if len(sql['sql']['having']) > 0:\n",
        "        gt_having = sql['sql']['having'][0] # currently only do first having condition\n",
        "        having_cond.append(gt_having[2][1][0]) # aggregator\n",
        "        having_cond.append(gt_having[2][1][1]) # column\n",
        "        having_cond.append(gt_having[1]) # operator\n",
        "        if gt_having[4] is not None:\n",
        "          having_cond.append([gt_having[3], gt_having[4]])\n",
        "        else:\n",
        "          having_cond.append(gt_having[3])\n",
        "      sql_temp['group'].append(having_cond)\n",
        "\n",
        "      # process order by / limit\n",
        "      order_aggs = []\n",
        "      order_cols = []\n",
        "      order_par = -1\n",
        "      gt_order = sql['sql']['orderBy']\n",
        "      if len(gt_order) > 0:\n",
        "        order_aggs = [x[1][0] for x in gt_order[1]]\n",
        "        order_cols = [x[1][1] for x in gt_order[1]]\n",
        "        order_par = 1 if gt_order[0] == 'asc' else 0\n",
        "      sql_temp['order'] = [order_aggs, order_cols, order_par]\n",
        "\n",
        "      # process intersect/except/union\n",
        "      sql_temp['special'] = 0\n",
        "      if sql['sql']['intersect'] is not None:\n",
        "        sql_temp['special'] = 1\n",
        "      elif sql['sql']['except'] is not None:\n",
        "        sql_temp['special'] = 2\n",
        "      elif sql['sql']['union'] is not None:\n",
        "        sql_temp['special'] = 3\n",
        "\n",
        "      temp['sql'] = sql_temp\n",
        "      output_sql.append(temp)\n",
        "    return output_sql, output_tab"
      ],
      "metadata": {
        "id": "WGpYm9-hueH4"
      },
      "execution_count": 6,
      "outputs": []
    },
    {
      "cell_type": "code",
      "source": [
        "def load_data_new(sql_paths: Union[str, List[str]], \n",
        "                  table_paths: Union[str, List[str]], \n",
        "                  use_small: bool = False) -> Tuple[List[Dict], Dict[str, Dict]]:\n",
        "    if not isinstance(sql_paths, list):\n",
        "        sql_paths = (sql_paths, )\n",
        "    if not isinstance(table_paths, list):\n",
        "        table_paths = (table_paths, )\n",
        "    sql_data = []\n",
        "    table_data = {}\n",
        "    for i, SQL_PATH in enumerate(sql_paths):\n",
        "        if use_small and i >= 2:\n",
        "            break\n",
        "        print(f\"Loading data from {SQL_PATH}\")\n",
        "        with open(SQL_PATH) as inf:\n",
        "            data = json.load(inf)\n",
        "            sql_data += data\n",
        "                \n",
        "    for i, TABLE_PATH in enumerate(table_paths):\n",
        "        if use_small and i >= 2:\n",
        "            break\n",
        "        print(f\"Loading data from {TABLE_PATH}\")\n",
        "        with open(TABLE_PATH) as inf:\n",
        "            table_data= json.load(inf)\n",
        "    # print sql_data[0]\n",
        "    sql_data, table_data = process(sql_data, table_data)\n",
        "    return sql_data, table_data"
      ],
      "metadata": {
        "id": "RgYlGa8xr0fT"
      },
      "execution_count": 7,
      "outputs": []
    },
    {
      "cell_type": "markdown",
      "source": [
        "### Load Clean Data"
      ],
      "metadata": {
        "id": "qVmnWaHEuxlz"
      }
    },
    {
      "cell_type": "code",
      "source": [
        "sql_data_train, table_data = load_data_new([\"/content/data/spider/train_spider.json\"], [\"/content/data/spider/tables.json\"], use_small=False)"
      ],
      "metadata": {
        "colab": {
          "base_uri": "https://localhost:8080/"
        },
        "id": "evSVkVrRuzZz",
        "outputId": "78c246fb-a3a4-4b39-b04c-9db360f74afb"
      },
      "execution_count": 10,
      "outputs": [
        {
          "output_type": "stream",
          "name": "stdout",
          "text": [
            "Loading data from /content/data/spider/train_spider.json\n",
            "Loading data from /content/data/spider/tables.json\n"
          ]
        }
      ]
    },
    {
      "cell_type": "code",
      "source": [
        "sql_data_dev, table_data = load_data_new([\"/content/data/spider/dev.json\"], [\"/content/data/spider/tables.json\"], use_small=False)"
      ],
      "metadata": {
        "colab": {
          "base_uri": "https://localhost:8080/"
        },
        "id": "lqCDNCxvpP7Q",
        "outputId": "7da95df4-e46d-4d66-9de4-4598b699f904"
      },
      "execution_count": 11,
      "outputs": [
        {
          "output_type": "stream",
          "name": "stdout",
          "text": [
            "Loading data from /content/data/spider/dev.json\n",
            "Loading data from /content/data/spider/tables.json\n"
          ]
        }
      ]
    },
    {
      "cell_type": "markdown",
      "source": [
        "## Section 3: EDA"
      ],
      "metadata": {
        "id": "klEYyJoOMLDC"
      }
    },
    {
      "cell_type": "markdown",
      "source": [
        "### SQL Data"
      ],
      "metadata": {
        "id": "pk99_xlhdNUg"
      }
    },
    {
      "cell_type": "code",
      "source": [
        "print(f\"Number of training data: {len(sql_data_train)}\")\n",
        "print(f\"Number of eval data: {len(sql_data_dev)}\")"
      ],
      "metadata": {
        "colab": {
          "base_uri": "https://localhost:8080/"
        },
        "id": "j3LWEdt6N8KC",
        "outputId": "c0a70c1c-8037-4de6-c4da-a5f7850eec98"
      },
      "execution_count": 26,
      "outputs": [
        {
          "output_type": "stream",
          "name": "stdout",
          "text": [
            "Number of training data: 7000\n",
            "Number of eval data: 1034\n"
          ]
        }
      ]
    },
    {
      "cell_type": "markdown",
      "source": [
        "One example looks like:"
      ],
      "metadata": {
        "id": "m0_t2aN4MXeq"
      }
    },
    {
      "cell_type": "code",
      "source": [
        "sql_data_train[0]"
      ],
      "metadata": {
        "colab": {
          "base_uri": "https://localhost:8080/"
        },
        "id": "0mIbghp11CAa",
        "outputId": "a8b3a763-48b7-49fe-fbec-84ce8d8a6005"
      },
      "execution_count": 21,
      "outputs": [
        {
          "output_type": "execute_result",
          "data": {
            "text/plain": [
              "{'question': 'How many heads of the departments are older than 56 ?',\n",
              " 'question_tok': ['How',\n",
              "  'many',\n",
              "  'heads',\n",
              "  'of',\n",
              "  'the',\n",
              "  'departments',\n",
              "  'are',\n",
              "  'older',\n",
              "  'than',\n",
              "  '56',\n",
              "  '?'],\n",
              " 'query': 'SELECT count(*) FROM head WHERE age  >  56',\n",
              " 'query_tok': ['SELECT',\n",
              "  'count',\n",
              "  '(',\n",
              "  '*',\n",
              "  ')',\n",
              "  'FROM',\n",
              "  'head',\n",
              "  'WHERE',\n",
              "  'age',\n",
              "  '>',\n",
              "  '56'],\n",
              " 'table_id': 'department_management',\n",
              " 'sql': {'agg': [3],\n",
              "  'sel': [0],\n",
              "  'cond': [[10, 3, 56.0]],\n",
              "  'conj': [],\n",
              "  'group': [[]],\n",
              "  'order': [[], [], -1],\n",
              "  'special': 0}}"
            ]
          },
          "metadata": {},
          "execution_count": 21
        }
      ]
    },
    {
      "cell_type": "markdown",
      "source": [
        "### Database Schema Data"
      ],
      "metadata": {
        "id": "WduOxRV_dQ1w"
      }
    },
    {
      "cell_type": "code",
      "source": [
        "len(table_data)"
      ],
      "metadata": {
        "colab": {
          "base_uri": "https://localhost:8080/"
        },
        "id": "Jd7W9pLxds7R",
        "outputId": "889ef305-e6de-4e2c-de17-1b4c320d1c7c"
      },
      "execution_count": 30,
      "outputs": [
        {
          "output_type": "execute_result",
          "data": {
            "text/plain": [
              "166"
            ]
          },
          "metadata": {},
          "execution_count": 30
        }
      ]
    },
    {
      "cell_type": "code",
      "source": [
        "table_data['yelp']"
      ],
      "metadata": {
        "colab": {
          "base_uri": "https://localhost:8080/"
        },
        "id": "6ewbMHqh1DwV",
        "outputId": "06d6c0d9-ef4a-456a-f66d-4b411ffc26ba"
      },
      "execution_count": 29,
      "outputs": [
        {
          "output_type": "execute_result",
          "data": {
            "text/plain": [
              "{'col_map': [[-1, '*'],\n",
              "  [0, 'bid'],\n",
              "  [0, 'business id'],\n",
              "  [0, 'name'],\n",
              "  [0, 'full address'],\n",
              "  [0, 'city'],\n",
              "  [0, 'latitude'],\n",
              "  [0, 'longitude'],\n",
              "  [0, 'review count'],\n",
              "  [0, 'is open'],\n",
              "  [0, 'rating'],\n",
              "  [0, 'state'],\n",
              "  [1, 'id'],\n",
              "  [1, 'business id'],\n",
              "  [1, 'category name'],\n",
              "  [2, 'uid'],\n",
              "  [2, 'user id'],\n",
              "  [2, 'name'],\n",
              "  [3, 'cid'],\n",
              "  [3, 'business id'],\n",
              "  [3, 'count'],\n",
              "  [3, 'day'],\n",
              "  [4, 'id'],\n",
              "  [4, 'business id'],\n",
              "  [4, 'neighbourhood name'],\n",
              "  [5, 'rid'],\n",
              "  [5, 'business id'],\n",
              "  [5, 'user id'],\n",
              "  [5, 'rating'],\n",
              "  [5, 'text'],\n",
              "  [5, 'year'],\n",
              "  [5, 'month'],\n",
              "  [6, 'tip id'],\n",
              "  [6, 'business id'],\n",
              "  [6, 'text'],\n",
              "  [6, 'user id'],\n",
              "  [6, 'likes'],\n",
              "  [6, 'year'],\n",
              "  [6, 'month']]}"
            ]
          },
          "metadata": {},
          "execution_count": 29
        }
      ]
    },
    {
      "cell_type": "code",
      "source": [],
      "metadata": {
        "id": "dc54ExnvdbWl"
      },
      "execution_count": null,
      "outputs": []
    }
  ]
}