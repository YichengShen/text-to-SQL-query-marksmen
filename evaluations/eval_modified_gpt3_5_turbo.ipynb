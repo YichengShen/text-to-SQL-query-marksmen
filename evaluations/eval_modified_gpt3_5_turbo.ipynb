{
  "nbformat": 4,
  "nbformat_minor": 0,
  "metadata": {
    "colab": {
      "provenance": [],
      "include_colab_link": true
    },
    "kernelspec": {
      "name": "python3",
      "display_name": "Python 3"
    },
    "language_info": {
      "name": "python"
    }
  },
  "cells": [
    {
      "cell_type": "markdown",
      "metadata": {
        "id": "view-in-github",
        "colab_type": "text"
      },
      "source": [
        "<a href=\"https://colab.research.google.com/github/YichengShen/cis5220-project/blob/main/evaluations/eval_modified_gpt3_5_turbo.ipynb\" target=\"_parent\"><img src=\"https://colab.research.google.com/assets/colab-badge.svg\" alt=\"Open In Colab\"/></a>"
      ]
    },
    {
      "cell_type": "markdown",
      "source": [
        "# Evaluation of predictions made by modified gpt-3.5-turbo model"
      ],
      "metadata": {
        "id": "GCry9KEwGgYl"
      }
    },
    {
      "cell_type": "markdown",
      "source": [
        "To run evaluation, we need 2 files, `./labels.txt` and `./preds.txt`. To see their format, refer to https://github.com/taoyds/spider/tree/master/evaluation_examples."
      ],
      "metadata": {
        "id": "WdjDT-3hVu46"
      }
    },
    {
      "cell_type": "code",
      "source": [
        "from google.colab import drive\n",
        "drive.mount('/content/drive')"
      ],
      "metadata": {
        "colab": {
          "base_uri": "https://localhost:8080/"
        },
        "id": "1wCPvDBuTSvQ",
        "outputId": "9b08c3b4-50d9-4ef6-e1fa-ef6684ced4e9"
      },
      "execution_count": 1,
      "outputs": [
        {
          "output_type": "stream",
          "name": "stdout",
          "text": [
            "Mounted at /content/drive\n"
          ]
        }
      ]
    },
    {
      "cell_type": "code",
      "source": [
        "import os\n",
        "import shutil\n",
        "import subprocess\n",
        "import nltk"
      ],
      "metadata": {
        "id": "n6w2QtDPTMDW"
      },
      "execution_count": 2,
      "outputs": []
    },
    {
      "cell_type": "code",
      "source": [
        "nltk.download('punkt')"
      ],
      "metadata": {
        "colab": {
          "base_uri": "https://localhost:8080/"
        },
        "id": "kQk-gdHaTVLw",
        "outputId": "338e0fa1-0442-4c45-95fb-0f824e82c012"
      },
      "execution_count": 3,
      "outputs": [
        {
          "output_type": "stream",
          "name": "stderr",
          "text": [
            "[nltk_data] Downloading package punkt to /root/nltk_data...\n",
            "[nltk_data]   Unzipping tokenizers/punkt.zip.\n"
          ]
        },
        {
          "output_type": "execute_result",
          "data": {
            "text/plain": [
              "True"
            ]
          },
          "metadata": {},
          "execution_count": 3
        }
      ]
    },
    {
      "cell_type": "code",
      "source": [
        "# Create data folder if not exist\n",
        "!mkdir -p data\n",
        "\n",
        "# Change this path to where you store spider.zip in your Drive\n",
        "dataset_zip_path_in_drive = \"/content/drive/Shareddrives/CIS 522/spider.zip\"\n",
        "dataset_zip_path_in_runtime = \"/content/data/spider.zip\"\n",
        "\n",
        "shutil.copy(dataset_zip_path_in_drive, dataset_zip_path_in_runtime)\n",
        "\n",
        "!unzip -q -o /content/data/spider.zip -d /content/data/"
      ],
      "metadata": {
        "id": "YUI_66IUTeT4"
      },
      "execution_count": 4,
      "outputs": []
    },
    {
      "cell_type": "markdown",
      "source": [
        "Copy GPT predictions to Colab"
      ],
      "metadata": {
        "id": "dPj85UlS5Bqk"
      }
    },
    {
      "cell_type": "code",
      "source": [
        "shutil.copy(\"/content/drive/Shareddrives/CIS 522/GPT_pred/dev_pred.sql\", \"/content\")"
      ],
      "metadata": {
        "colab": {
          "base_uri": "https://localhost:8080/",
          "height": 35
        },
        "id": "24rPExU15Fhs",
        "outputId": "c94228f2-f584-4cb4-b720-fd240f722b8e"
      },
      "execution_count": 7,
      "outputs": [
        {
          "output_type": "execute_result",
          "data": {
            "text/plain": [
              "'/content/dev_pred.sql'"
            ],
            "application/vnd.google.colaboratory.intrinsic+json": {
              "type": "string"
            }
          },
          "metadata": {},
          "execution_count": 7
        }
      ]
    },
    {
      "cell_type": "markdown",
      "source": [
        "Convert preds file type"
      ],
      "metadata": {
        "id": "4MKlutsr5ZPP"
      }
    },
    {
      "cell_type": "code",
      "source": [
        "# Convert .sql to .txt\n",
        "input_file = \"dev_pred.sql\"\n",
        "output_file = \"preds.txt\"\n",
        "\n",
        "with open(input_file, \"r\") as infile, open(output_file, \"w\") as outfile:\n",
        "    for line in infile:\n",
        "        outfile.write(line)"
      ],
      "metadata": {
        "id": "esEuFZOq6GLs"
      },
      "execution_count": 8,
      "outputs": []
    },
    {
      "cell_type": "markdown",
      "source": [
        "Clean up ERROR rows in pred.txt"
      ],
      "metadata": {
        "id": "PmJU22V_Gw9S"
      }
    },
    {
      "cell_type": "code",
      "source": [
        "# labels.txt is uploaded to Colab\n",
        "\n",
        "input_preds = \"preds.txt\"\n",
        "input_labels = \"labels.txt\"\n",
        "\n",
        "output_preds = \"filtered_preds.txt\"\n",
        "output_labels = \"filtered_labels.txt\"\n",
        "\n",
        "with open(input_preds, \"r\") as preds_file, open(input_labels, \"r\") as labels_file, \\\n",
        "     open(output_preds, \"w\") as filtered_preds, open(output_labels, \"w\") as filtered_labels:\n",
        "\n",
        "    for pred_line, label_line in zip(preds_file, labels_file):\n",
        "        if \"ERROR\" not in pred_line:\n",
        "            filtered_preds.write(pred_line)\n",
        "            filtered_labels.write(label_line)"
      ],
      "metadata": {
        "id": "MiIlFL8gGug0"
      },
      "execution_count": 11,
      "outputs": []
    },
    {
      "cell_type": "markdown",
      "source": [
        "Evaluation"
      ],
      "metadata": {
        "id": "ks5mFZmi5Pa0"
      }
    },
    {
      "cell_type": "code",
      "source": [
        "scripts_path_in_drive = \"/content/drive/Shareddrives/CIS 522/scripts\"\n",
        "scripts_path_in_runtime = \"/content/scripts\"\n",
        "\n",
        "# Overrides previous scripts folder\n",
        "if os.path.exists(scripts_path_in_runtime):\n",
        "    shutil.rmtree(scripts_path_in_runtime)\n",
        "shutil.copytree(scripts_path_in_drive, scripts_path_in_runtime)"
      ],
      "metadata": {
        "colab": {
          "base_uri": "https://localhost:8080/",
          "height": 35
        },
        "id": "vkGEoixQTLnQ",
        "outputId": "49af762b-d7c8-4ec6-8115-01cb6d0cccaa"
      },
      "execution_count": 5,
      "outputs": [
        {
          "output_type": "execute_result",
          "data": {
            "text/plain": [
              "'/content/scripts'"
            ],
            "application/vnd.google.colaboratory.intrinsic+json": {
              "type": "string"
            }
          },
          "metadata": {},
          "execution_count": 5
        }
      ]
    },
    {
      "cell_type": "code",
      "execution_count": 6,
      "metadata": {
        "id": "2-3Z1geVTEHy"
      },
      "outputs": [],
      "source": [
        "def evaluate(preds_file, labels_file, evaluation_type=\"all\", \n",
        "             database_dir=\"./data/spider/database\", \n",
        "             table_file=\"./data/spider/tables.json\",\n",
        "             verbose=\"False\"):\n",
        "    \"\"\"\n",
        "    Runs the evaluation script for the Spider dataset using the provided labels and predictions files.\n",
        "    It prints the evaluation results to the console and returns the subprocess result object.\n",
        "\n",
        "    Args:\n",
        "        preds_file (str): Path to the predictions file. In this file, each line is `a ground-truth SQL \\t db_id`.\n",
        "        labels_file (str): Path to the labels (gold) file. In this file, each line is a predicted SQL.\n",
        "        evaluation_type (str): Evaluation type, can be 'all', 'exec', or 'match'.\n",
        "        database_dir (str): Path to the directory containing the Spider dataset's database files.\n",
        "        table_file (str): Path to the tables.json file from the Spider dataset.\n",
        "        verbose (str): Flag to trun on or off printing details.\n",
        "\n",
        "    Returns:\n",
        "        result (subprocess.CompletedProcess): A CompletedProcess instance representing the evaluation subprocess.\n",
        "                                              It contains attributes like 'stdout' and 'stderr' to access the output\n",
        "                                              and error messages respectively.\n",
        "    \"\"\"\n",
        "\n",
        "    cmd = [\n",
        "        \"python3\", \"scripts/evaluation.py\",\n",
        "        \"--gold\", labels_file,\n",
        "        \"--pred\", preds_file,\n",
        "        \"--etype\", evaluation_type,\n",
        "        \"--db\", database_dir,\n",
        "        \"--table\", table_file,\n",
        "        \"--verbose\", verbose\n",
        "    ]\n",
        "\n",
        "    result = subprocess.run(cmd, capture_output=True, text=True)\n",
        "\n",
        "    print(result.stdout)\n",
        "\n",
        "    return result"
      ]
    },
    {
      "cell_type": "markdown",
      "source": [
        "### Evaluations containing ERROR rows in preds.txt"
      ],
      "metadata": {
        "id": "jZYLFGdGG43T"
      }
    },
    {
      "cell_type": "markdown",
      "source": [
        "labels.txt is uploaded to Colab"
      ],
      "metadata": {
        "id": "xPS0ajD961rf"
      }
    },
    {
      "cell_type": "code",
      "source": [
        "# evaluation_type=\"all\" or \"exec\" might explode RAM, be careful\n",
        "evaluation_eval = evaluate(preds_file=\"preds.txt\", \n",
        "                          labels_file=\"labels.txt\", \n",
        "                          evaluation_type=\"all\", \n",
        "                          database_dir=\"./data/spider/database\", \n",
        "                          table_file=\"./data/spider/tables.json\",\n",
        "                          verbose=\"False\")"
      ],
      "metadata": {
        "colab": {
          "base_uri": "https://localhost:8080/"
        },
        "id": "HCJmsnrjTZ9N",
        "outputId": "47bd17ff-836c-40e2-fe21-6225deab0326"
      },
      "execution_count": 10,
      "outputs": [
        {
          "output_type": "stream",
          "name": "stdout",
          "text": [
            "                     easy                 medium               hard                 extra                all                 \n",
            "count                248                  446                  174                  166                  1034                \n",
            "=====================   EXECUTION ACCURACY     =====================\n",
            "execution            0.690                0.509                0.299                0.187                0.465               \n",
            "\n",
            "====================== EXACT MATCHING ACCURACY =====================\n",
            "exact match          0.661                0.413                0.230                0.066                0.386               \n",
            "\n",
            "---------------------PARTIAL MATCHING ACCURACY----------------------\n",
            "select               0.874                0.887                0.884                0.831                0.877               \n",
            "select(no AGG)       0.888                0.887                0.884                0.845                0.883               \n",
            "where                0.863                0.730                0.611                0.393                0.691               \n",
            "where(no OP)         0.863                0.730                0.681                0.518                0.723               \n",
            "group(no Having)     1.000                0.875                0.400                0.667                0.784               \n",
            "group                0.600                0.625                0.400                0.625                0.608               \n",
            "order                0.600                0.557                0.556                0.132                0.471               \n",
            "and/or               1.000                0.959                0.941                0.922                0.960               \n",
            "IUEN                 0.000                0.000                1.000                0.000                1.000               \n",
            "keywords             0.902                0.802                0.624                0.423                0.745               \n",
            "---------------------- PARTIAL MATCHING RECALL ----------------------\n",
            "select               0.758                0.581                0.437                0.355                0.563               \n",
            "select(no AGG)       0.770                0.581                0.437                0.361                0.567               \n",
            "where                0.759                0.610                0.468                0.234                0.542               \n",
            "where(no OP)         0.759                0.610                0.521                0.309                0.567               \n",
            "group(no Having)     0.250                0.263                0.051                0.203                0.214               \n",
            "group                0.150                0.188                0.051                0.190                0.166               \n",
            "order                0.818                0.587                0.273                0.063                0.355               \n",
            "and/or               0.992                0.991                0.976                0.922                0.978               \n",
            "IUEN                 0.000                0.000                0.024                0.000                0.013               \n",
            "keywords             0.740                0.516                0.305                0.181                0.448               \n",
            "---------------------- PARTIAL MATCHING F1 --------------------------\n",
            "select               0.812                0.702                0.585                0.498                0.686               \n",
            "select(no AGG)       0.825                0.702                0.585                0.506                0.690               \n",
            "where                0.808                0.665                0.530                0.293                0.607               \n",
            "where(no OP)         0.808                0.665                0.590                0.387                0.635               \n",
            "group(no Having)     0.400                0.405                0.091                0.311                0.336               \n",
            "group                0.240                0.289                0.091                0.291                0.261               \n",
            "order                0.692                0.571                0.366                0.085                0.405               \n",
            "and/or               0.996                0.975                0.958                0.922                0.969               \n",
            "IUEN                 1.000                1.000                0.047                1.000                0.026               \n",
            "keywords             0.813                0.628                0.409                0.253                0.560               \n",
            "\n"
          ]
        }
      ]
    },
    {
      "cell_type": "markdown",
      "source": [
        "### Evaluations NOT containing ERROR rows in preds.txt"
      ],
      "metadata": {
        "id": "GcR3cDzzG77I"
      }
    },
    {
      "cell_type": "code",
      "source": [
        "# evaluation_type=\"all\" or \"exec\" might explode RAM, be careful\n",
        "evaluation_eval = evaluate(preds_file=\"filtered_preds.txt\", \n",
        "                          labels_file=\"filtered_labels.txt\", \n",
        "                          evaluation_type=\"all\", \n",
        "                          database_dir=\"./data/spider/database\", \n",
        "                          table_file=\"./data/spider/tables.json\",\n",
        "                          verbose=\"False\")"
      ],
      "metadata": {
        "id": "tG6fqk75TuuZ",
        "colab": {
          "base_uri": "https://localhost:8080/"
        },
        "outputId": "1b99cd83-cceb-4d85-959c-b16b943b3163"
      },
      "execution_count": 12,
      "outputs": [
        {
          "output_type": "stream",
          "name": "stdout",
          "text": [
            "                     easy                 medium               hard                 extra                all                 \n",
            "count                238                  412                  165                  152                  967                 \n",
            "=====================   EXECUTION ACCURACY     =====================\n",
            "execution            0.718                0.551                0.315                0.204                0.497               \n",
            "\n",
            "====================== EXACT MATCHING ACCURACY =====================\n",
            "exact match          0.689                0.447                0.242                0.072                0.413               \n",
            "\n",
            "---------------------PARTIAL MATCHING ACCURACY----------------------\n",
            "select               0.874                0.887                0.884                0.831                0.877               \n",
            "select(no AGG)       0.888                0.887                0.884                0.845                0.883               \n",
            "where                0.863                0.730                0.611                0.393                0.691               \n",
            "where(no OP)         0.863                0.730                0.681                0.518                0.723               \n",
            "group(no Having)     1.000                0.875                0.400                0.667                0.784               \n",
            "group                0.600                0.625                0.400                0.625                0.608               \n",
            "order                0.600                0.557                0.556                0.132                0.471               \n",
            "and/or               1.000                0.975                0.969                0.921                0.972               \n",
            "IUEN                 0.000                0.000                1.000                0.000                1.000               \n",
            "keywords             0.902                0.802                0.624                0.423                0.745               \n",
            "---------------------- PARTIAL MATCHING RECALL ----------------------\n",
            "select               0.790                0.629                0.461                0.388                0.602               \n",
            "select(no AGG)       0.803                0.629                0.461                0.395                0.606               \n",
            "where                0.828                0.677                0.500                0.259                0.594               \n",
            "where(no OP)         0.828                0.677                0.557                0.341                0.622               \n",
            "group(no Having)     0.263                0.285                0.054                0.216                0.229               \n",
            "group                0.158                0.203                0.054                0.203                0.178               \n",
            "order                0.818                0.638                0.288                0.068                0.378               \n",
            "and/or               0.992                0.990                0.975                0.915                0.977               \n",
            "IUEN                 0.000                0.000                0.024                0.000                0.014               \n",
            "keywords             0.793                0.567                0.321                0.197                0.486               \n",
            "---------------------- PARTIAL MATCHING F1 --------------------------\n",
            "select               0.830                0.736                0.606                0.529                0.714               \n",
            "select(no AGG)       0.843                0.736                0.606                0.538                0.719               \n",
            "where                0.845                0.703                0.550                0.312                0.639               \n",
            "where(no OP)         0.845                0.703                0.612                0.411                0.668               \n",
            "group(no Having)     0.417                0.429                0.095                0.327                0.355               \n",
            "group                0.250                0.307                0.095                0.306                0.275               \n",
            "order                0.692                0.595                0.380                0.089                0.419               \n",
            "and/or               0.996                0.983                0.972                0.918                0.975               \n",
            "IUEN                 1.000                1.000                0.048                1.000                0.028               \n",
            "keywords             0.844                0.664                0.424                0.269                0.588               \n",
            "\n"
          ]
        }
      ]
    }
  ]
}