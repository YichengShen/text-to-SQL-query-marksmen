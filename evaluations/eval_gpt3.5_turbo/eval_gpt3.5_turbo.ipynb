{
  "nbformat": 4,
  "nbformat_minor": 0,
  "metadata": {
    "colab": {
      "provenance": [],
      "include_colab_link": true
    },
    "kernelspec": {
      "name": "python3",
      "display_name": "Python 3"
    },
    "language_info": {
      "name": "python"
    }
  },
  "cells": [
    {
      "cell_type": "markdown",
      "metadata": {
        "id": "view-in-github",
        "colab_type": "text"
      },
      "source": [
        "<a href=\"https://colab.research.google.com/github/YichengShen/cis5220-project/blob/main/evaluations/eval_gpt3.5_turbo.ipynb\" target=\"_parent\"><img src=\"https://colab.research.google.com/assets/colab-badge.svg\" alt=\"Open In Colab\"/></a>"
      ]
    },
    {
      "cell_type": "markdown",
      "source": [
        "# Evaluation of predictions made by gpt-3.5-turbo model"
      ],
      "metadata": {
        "id": "8QdE_A4UGNzc"
      }
    },
    {
      "cell_type": "markdown",
      "source": [
        "To run evaluation, we need 2 files, `./labels.txt` and `./preds.txt`. To see their format, refer to https://github.com/taoyds/spider/tree/master/evaluation_examples."
      ],
      "metadata": {
        "id": "WdjDT-3hVu46"
      }
    },
    {
      "cell_type": "code",
      "source": [
        "from google.colab import drive\n",
        "drive.mount('/content/drive')"
      ],
      "metadata": {
        "colab": {
          "base_uri": "https://localhost:8080/"
        },
        "id": "1wCPvDBuTSvQ",
        "outputId": "11d8b73a-4f80-469a-f26f-8832e703346a"
      },
      "execution_count": 1,
      "outputs": [
        {
          "output_type": "stream",
          "name": "stdout",
          "text": [
            "Mounted at /content/drive\n"
          ]
        }
      ]
    },
    {
      "cell_type": "code",
      "source": [
        "import os\n",
        "import shutil\n",
        "import subprocess\n",
        "import nltk"
      ],
      "metadata": {
        "id": "n6w2QtDPTMDW"
      },
      "execution_count": 2,
      "outputs": []
    },
    {
      "cell_type": "code",
      "source": [
        "nltk.download('punkt')"
      ],
      "metadata": {
        "colab": {
          "base_uri": "https://localhost:8080/"
        },
        "id": "kQk-gdHaTVLw",
        "outputId": "85c3077b-a1d1-479d-be07-f4ef9b961e2d"
      },
      "execution_count": 3,
      "outputs": [
        {
          "output_type": "stream",
          "name": "stderr",
          "text": [
            "[nltk_data] Downloading package punkt to /root/nltk_data...\n",
            "[nltk_data]   Unzipping tokenizers/punkt.zip.\n"
          ]
        },
        {
          "output_type": "execute_result",
          "data": {
            "text/plain": [
              "True"
            ]
          },
          "metadata": {},
          "execution_count": 3
        }
      ]
    },
    {
      "cell_type": "code",
      "source": [
        "# Create data folder if not exist\n",
        "!mkdir -p data\n",
        "\n",
        "# Change this path to where you store spider.zip in your Drive\n",
        "dataset_zip_path_in_drive = \"/content/drive/Shareddrives/CIS 522/spider.zip\"\n",
        "dataset_zip_path_in_runtime = \"/content/data/spider.zip\"\n",
        "\n",
        "shutil.copy(dataset_zip_path_in_drive, dataset_zip_path_in_runtime)\n",
        "\n",
        "!unzip -q -o /content/data/spider.zip -d /content/data/"
      ],
      "metadata": {
        "id": "YUI_66IUTeT4"
      },
      "execution_count": 4,
      "outputs": []
    },
    {
      "cell_type": "markdown",
      "source": [
        "Copy GPT predictions to Colab"
      ],
      "metadata": {
        "id": "dPj85UlS5Bqk"
      }
    },
    {
      "cell_type": "code",
      "source": [
        "shutil.copy(\"/content/drive/Shareddrives/CIS 522/GPT3.5_pred_no_col_name/dev_pred.sql\", \"/content\")"
      ],
      "metadata": {
        "colab": {
          "base_uri": "https://localhost:8080/",
          "height": 35
        },
        "id": "24rPExU15Fhs",
        "outputId": "cf8fc42c-82c4-430e-98b5-89574e1e3996"
      },
      "execution_count": 5,
      "outputs": [
        {
          "output_type": "execute_result",
          "data": {
            "text/plain": [
              "'/content/dev_pred.sql'"
            ],
            "application/vnd.google.colaboratory.intrinsic+json": {
              "type": "string"
            }
          },
          "metadata": {},
          "execution_count": 5
        }
      ]
    },
    {
      "cell_type": "markdown",
      "source": [
        "Convert preds file type"
      ],
      "metadata": {
        "id": "4MKlutsr5ZPP"
      }
    },
    {
      "cell_type": "code",
      "source": [
        "# Convert .sql to .txt\n",
        "input_file = \"dev_pred.sql\"\n",
        "output_file = \"preds.txt\"\n",
        "\n",
        "with open(input_file, \"r\") as infile, open(output_file, \"w\") as outfile:\n",
        "    for line in infile:\n",
        "        outfile.write(line)"
      ],
      "metadata": {
        "id": "esEuFZOq6GLs"
      },
      "execution_count": 6,
      "outputs": []
    },
    {
      "cell_type": "markdown",
      "source": [
        "Clean up ERROR rows in pred.txt"
      ],
      "metadata": {
        "id": "6b63zrYUAPsX"
      }
    },
    {
      "cell_type": "code",
      "source": [
        "# labels.txt is uploaded to Colab\n",
        "\n",
        "input_preds = \"preds.txt\"\n",
        "input_labels = \"labels.txt\"\n",
        "\n",
        "output_preds = \"filtered_preds.txt\"\n",
        "output_labels = \"filtered_labels.txt\"\n",
        "\n",
        "with open(input_preds, \"r\") as preds_file, open(input_labels, \"r\") as labels_file, \\\n",
        "     open(output_preds, \"w\") as filtered_preds, open(output_labels, \"w\") as filtered_labels:\n",
        "\n",
        "    for pred_line, label_line in zip(preds_file, labels_file):\n",
        "        if \"ERROR\" not in pred_line:\n",
        "            filtered_preds.write(pred_line)\n",
        "            filtered_labels.write(label_line)"
      ],
      "metadata": {
        "id": "5KgBvAIYAPV9"
      },
      "execution_count": 10,
      "outputs": []
    },
    {
      "cell_type": "markdown",
      "source": [
        "Evaluation"
      ],
      "metadata": {
        "id": "ks5mFZmi5Pa0"
      }
    },
    {
      "cell_type": "code",
      "source": [
        "scripts_path_in_drive = \"/content/drive/Shareddrives/CIS 522/scripts\"\n",
        "scripts_path_in_runtime = \"/content/scripts\"\n",
        "\n",
        "# Overrides previous scripts folder\n",
        "if os.path.exists(scripts_path_in_runtime):\n",
        "    shutil.rmtree(scripts_path_in_runtime)\n",
        "shutil.copytree(scripts_path_in_drive, scripts_path_in_runtime)"
      ],
      "metadata": {
        "colab": {
          "base_uri": "https://localhost:8080/",
          "height": 35
        },
        "id": "vkGEoixQTLnQ",
        "outputId": "18e00db6-7d14-4055-9965-19170af305eb"
      },
      "execution_count": 7,
      "outputs": [
        {
          "output_type": "execute_result",
          "data": {
            "text/plain": [
              "'/content/scripts'"
            ],
            "application/vnd.google.colaboratory.intrinsic+json": {
              "type": "string"
            }
          },
          "metadata": {},
          "execution_count": 7
        }
      ]
    },
    {
      "cell_type": "code",
      "execution_count": 8,
      "metadata": {
        "id": "2-3Z1geVTEHy"
      },
      "outputs": [],
      "source": [
        "def evaluate(preds_file, labels_file, evaluation_type=\"all\", \n",
        "             database_dir=\"./data/spider/database\", \n",
        "             table_file=\"./data/spider/tables.json\",\n",
        "             verbose=\"False\"):\n",
        "    \"\"\"\n",
        "    Runs the evaluation script for the Spider dataset using the provided labels and predictions files.\n",
        "    It prints the evaluation results to the console and returns the subprocess result object.\n",
        "\n",
        "    Args:\n",
        "        preds_file (str): Path to the predictions file. In this file, each line is `a ground-truth SQL \\t db_id`.\n",
        "        labels_file (str): Path to the labels (gold) file. In this file, each line is a predicted SQL.\n",
        "        evaluation_type (str): Evaluation type, can be 'all', 'exec', or 'match'.\n",
        "        database_dir (str): Path to the directory containing the Spider dataset's database files.\n",
        "        table_file (str): Path to the tables.json file from the Spider dataset.\n",
        "        verbose (str): Flag to trun on or off printing details.\n",
        "\n",
        "    Returns:\n",
        "        result (subprocess.CompletedProcess): A CompletedProcess instance representing the evaluation subprocess.\n",
        "                                              It contains attributes like 'stdout' and 'stderr' to access the output\n",
        "                                              and error messages respectively.\n",
        "    \"\"\"\n",
        "\n",
        "    cmd = [\n",
        "        \"python3\", \"scripts/evaluation.py\",\n",
        "        \"--gold\", labels_file,\n",
        "        \"--pred\", preds_file,\n",
        "        \"--etype\", evaluation_type,\n",
        "        \"--db\", database_dir,\n",
        "        \"--table\", table_file,\n",
        "        \"--verbose\", verbose\n",
        "    ]\n",
        "\n",
        "    result = subprocess.run(cmd, capture_output=True, text=True)\n",
        "\n",
        "    print(result.stdout)\n",
        "\n",
        "    return result"
      ]
    },
    {
      "cell_type": "markdown",
      "source": [
        "### Evaluations containing ERROR rows in preds.txt"
      ],
      "metadata": {
        "id": "6fQFWpm2FOFk"
      }
    },
    {
      "cell_type": "markdown",
      "source": [
        "labels.txt is uploaded to Colab"
      ],
      "metadata": {
        "id": "xPS0ajD961rf"
      }
    },
    {
      "cell_type": "code",
      "source": [
        "# evaluation_type=\"all\" or \"exec\" might explode RAM, be careful\n",
        "evaluation_eval = evaluate(preds_file=\"preds.txt\", \n",
        "                          labels_file=\"labels.txt\", \n",
        "                          evaluation_type=\"all\", \n",
        "                          database_dir=\"./data/spider/database\", \n",
        "                          table_file=\"./data/spider/tables.json\",\n",
        "                          verbose=\"False\")"
      ],
      "metadata": {
        "colab": {
          "base_uri": "https://localhost:8080/"
        },
        "id": "_PyqHbidFIYu",
        "outputId": "2636b024-ec1d-4dca-add7-f29913c5a1a0"
      },
      "execution_count": 12,
      "outputs": [
        {
          "output_type": "stream",
          "name": "stdout",
          "text": [
            "                     easy                 medium               hard                 extra                all                 \n",
            "count                248                  446                  174                  166                  1034                \n",
            "=====================   EXECUTION ACCURACY     =====================\n",
            "execution            0.750                0.576                0.316                0.229                0.518               \n",
            "\n",
            "====================== EXACT MATCHING ACCURACY =====================\n",
            "exact match          0.734                0.469                0.241                0.078                0.431               \n",
            "\n",
            "---------------------PARTIAL MATCHING ACCURACY----------------------\n",
            "select               0.891                0.886                0.904                0.744                0.873               \n",
            "select(no AGG)       0.904                0.897                0.915                0.744                0.883               \n",
            "where                0.924                0.724                0.662                0.324                0.693               \n",
            "where(no OP)         0.943                0.735                0.727                0.419                0.730               \n",
            "group(no Having)     0.875                0.917                0.700                0.643                0.809               \n",
            "group                0.750                0.667                0.500                0.571                0.628               \n",
            "order                0.529                0.491                0.386                0.216                0.418               \n",
            "and/or               1.000                0.971                0.970                0.938                0.973               \n",
            "IUEN                 0.000                0.000                0.000                0.500                0.333               \n",
            "keywords             0.881                0.727                0.606                0.411                0.696               \n",
            "---------------------- PARTIAL MATCHING RECALL ----------------------\n",
            "select               0.823                0.677                0.489                0.404                0.636               \n",
            "select(no AGG)       0.835                0.686                0.494                0.404                0.644               \n",
            "where                0.898                0.720                0.543                0.255                0.634               \n",
            "where(no OP)         0.917                0.731                0.596                0.330                0.667               \n",
            "group(no Having)     0.350                0.331                0.179                0.228                0.280               \n",
            "group                0.300                0.241                0.128                0.203                0.218               \n",
            "order                0.818                0.720                0.309                0.139                0.433               \n",
            "and/or               0.992                0.986                0.959                0.873                0.965               \n",
            "IUEN                 0.000                0.000                0.000                0.029                0.013               \n",
            "keywords             0.793                0.550                0.328                0.223                0.485               \n",
            "---------------------- PARTIAL MATCHING F1 --------------------------\n",
            "select               0.855                0.767                0.634                0.523                0.736               \n",
            "select(no AGG)       0.868                0.778                0.642                0.523                0.745               \n",
            "where                0.911                0.722                0.596                0.286                0.662               \n",
            "where(no OP)         0.930                0.733                0.655                0.369                0.697               \n",
            "group(no Having)     0.500                0.486                0.286                0.336                0.416               \n",
            "group                0.429                0.354                0.204                0.299                0.323               \n",
            "order                0.643                0.584                0.343                0.169                0.426               \n",
            "and/or               0.996                0.978                0.964                0.904                0.969               \n",
            "IUEN                 1.000                1.000                1.000                0.056                0.025               \n",
            "keywords             0.835                0.627                0.425                0.289                0.572               \n",
            "\n"
          ]
        }
      ]
    },
    {
      "cell_type": "markdown",
      "source": [
        "### Evaluations NOT containing ERROR rows in preds.txt"
      ],
      "metadata": {
        "id": "NcYhYERBFXVz"
      }
    },
    {
      "cell_type": "code",
      "source": [
        "# evaluation_type=\"all\" or \"exec\" might explode RAM, be careful\n",
        "evaluation_eval = evaluate(preds_file=\"filtered_preds.txt\", \n",
        "                          labels_file=\"filtered_labels.txt\", \n",
        "                          evaluation_type=\"all\", \n",
        "                          database_dir=\"./data/spider/database\", \n",
        "                          table_file=\"./data/spider/tables.json\",\n",
        "                          verbose=\"False\")"
      ],
      "metadata": {
        "colab": {
          "base_uri": "https://localhost:8080/"
        },
        "id": "HCJmsnrjTZ9N",
        "outputId": "b1a8570e-9194-4865-b147-309f64b57a5a"
      },
      "execution_count": 11,
      "outputs": [
        {
          "output_type": "stream",
          "name": "stdout",
          "text": [
            "                     easy                 medium               hard                 extra                all                 \n",
            "count                247                  439                  170                  161                  1017                \n",
            "=====================   EXECUTION ACCURACY     =====================\n",
            "execution            0.753                0.585                0.324                0.236                0.527               \n",
            "\n",
            "====================== EXACT MATCHING ACCURACY =====================\n",
            "exact match          0.737                0.476                0.247                0.081                0.439               \n",
            "\n",
            "---------------------PARTIAL MATCHING ACCURACY----------------------\n",
            "select               0.891                0.886                0.904                0.744                0.873               \n",
            "select(no AGG)       0.904                0.897                0.915                0.744                0.883               \n",
            "where                0.924                0.724                0.662                0.324                0.693               \n",
            "where(no OP)         0.943                0.735                0.727                0.419                0.730               \n",
            "group(no Having)     0.875                0.917                0.700                0.643                0.809               \n",
            "group                0.750                0.667                0.500                0.571                0.628               \n",
            "order                0.529                0.491                0.386                0.216                0.418               \n",
            "and/or               1.000                0.972                0.969                0.936                0.974               \n",
            "IUEN                 0.000                0.000                0.000                0.500                0.333               \n",
            "keywords             0.881                0.727                0.606                0.411                0.696               \n",
            "---------------------- PARTIAL MATCHING RECALL ----------------------\n",
            "select               0.826                0.688                0.500                0.416                0.647               \n",
            "select(no AGG)       0.838                0.697                0.506                0.416                0.655               \n",
            "where                0.898                0.728                0.554                0.261                0.642               \n",
            "where(no OP)         0.917                0.739                0.609                0.337                0.676               \n",
            "group(no Having)     0.368                0.338                0.179                0.237                0.288               \n",
            "group                0.316                0.246                0.128                0.211                0.223               \n",
            "order                0.818                0.740                0.309                0.143                0.441               \n",
            "and/or               0.992                0.986                0.958                0.868                0.965               \n",
            "IUEN                 0.000                0.000                0.000                0.030                0.014               \n",
            "keywords             0.799                0.561                0.335                0.230                0.495               \n",
            "---------------------- PARTIAL MATCHING F1 --------------------------\n",
            "select               0.857                0.774                0.644                0.534                0.743               \n",
            "select(no AGG)       0.870                0.785                0.652                0.534                0.752               \n",
            "where                0.911                0.726                0.604                0.289                0.667               \n",
            "where(no OP)         0.930                0.737                0.663                0.373                0.702               \n",
            "group(no Having)     0.519                0.494                0.286                0.346                0.425               \n",
            "group                0.444                0.360                0.204                0.308                0.330               \n",
            "order                0.643                0.590                0.343                0.172                0.429               \n",
            "and/or               0.996                0.979                0.963                0.901                0.969               \n",
            "IUEN                 1.000                1.000                1.000                0.057                0.026               \n",
            "keywords             0.838                0.633                0.432                0.295                0.578               \n",
            "\n"
          ]
        }
      ]
    },
    {
      "cell_type": "code",
      "source": [],
      "metadata": {
        "id": "tG6fqk75TuuZ"
      },
      "execution_count": null,
      "outputs": []
    }
  ]
}